{
  "nbformat": 4,
  "nbformat_minor": 0,
  "metadata": {
    "colab": {
      "name": "003 - Creating datasets.ipynb",
      "provenance": [],
      "collapsed_sections": []
    },
    "kernelspec": {
      "name": "python3",
      "display_name": "Python 3"
    },
    "widgets": {
      "application/vnd.jupyter.widget-state+json": {
        "d60c3941c9bb4ef4b03a6bd79042fb2e": {
          "model_module": "@jupyter-widgets/controls",
          "model_name": "HBoxModel",
          "state": {
            "_view_name": "HBoxView",
            "_dom_classes": [],
            "_model_name": "HBoxModel",
            "_view_module": "@jupyter-widgets/controls",
            "_model_module_version": "1.5.0",
            "_view_count": null,
            "_view_module_version": "1.5.0",
            "box_style": "",
            "layout": "IPY_MODEL_b4e825c574014e5e8132628e2525a8e7",
            "_model_module": "@jupyter-widgets/controls",
            "children": [
              "IPY_MODEL_1eb9cd0970cc4294b15b7341ec87ff3e",
              "IPY_MODEL_f028dbfb280949c6b19ed9d57f353de6"
            ]
          }
        },
        "b4e825c574014e5e8132628e2525a8e7": {
          "model_module": "@jupyter-widgets/base",
          "model_name": "LayoutModel",
          "state": {
            "_view_name": "LayoutView",
            "grid_template_rows": null,
            "right": null,
            "justify_content": null,
            "_view_module": "@jupyter-widgets/base",
            "overflow": null,
            "_model_module_version": "1.2.0",
            "_view_count": null,
            "flex_flow": null,
            "width": null,
            "min_width": null,
            "border": null,
            "align_items": null,
            "bottom": null,
            "_model_module": "@jupyter-widgets/base",
            "top": null,
            "grid_column": null,
            "overflow_y": null,
            "overflow_x": null,
            "grid_auto_flow": null,
            "grid_area": null,
            "grid_template_columns": null,
            "flex": null,
            "_model_name": "LayoutModel",
            "justify_items": null,
            "grid_row": null,
            "max_height": null,
            "align_content": null,
            "visibility": null,
            "align_self": null,
            "height": null,
            "min_height": null,
            "padding": null,
            "grid_auto_rows": null,
            "grid_gap": null,
            "max_width": null,
            "order": null,
            "_view_module_version": "1.2.0",
            "grid_template_areas": null,
            "object_position": null,
            "object_fit": null,
            "grid_auto_columns": null,
            "margin": null,
            "display": null,
            "left": null
          }
        },
        "1eb9cd0970cc4294b15b7341ec87ff3e": {
          "model_module": "@jupyter-widgets/controls",
          "model_name": "FloatProgressModel",
          "state": {
            "_view_name": "ProgressView",
            "style": "IPY_MODEL_d4218a0e4792444195d09bf8e9e42734",
            "_dom_classes": [],
            "description": "100%",
            "_model_name": "FloatProgressModel",
            "bar_style": "success",
            "max": 87306240,
            "_view_module": "@jupyter-widgets/controls",
            "_model_module_version": "1.5.0",
            "value": 87306240,
            "_view_count": null,
            "_view_module_version": "1.5.0",
            "orientation": "horizontal",
            "min": 0,
            "description_tooltip": null,
            "_model_module": "@jupyter-widgets/controls",
            "layout": "IPY_MODEL_fe5998b2fa86467596a8df3e3e08b045"
          }
        },
        "f028dbfb280949c6b19ed9d57f353de6": {
          "model_module": "@jupyter-widgets/controls",
          "model_name": "HTMLModel",
          "state": {
            "_view_name": "HTMLView",
            "style": "IPY_MODEL_7749f2441aaf476c82fdf5a759d58dd2",
            "_dom_classes": [],
            "description": "",
            "_model_name": "HTMLModel",
            "placeholder": "​",
            "_view_module": "@jupyter-widgets/controls",
            "_model_module_version": "1.5.0",
            "value": " 83.3M/83.3M [01:52&lt;00:00, 774kB/s]",
            "_view_count": null,
            "_view_module_version": "1.5.0",
            "description_tooltip": null,
            "_model_module": "@jupyter-widgets/controls",
            "layout": "IPY_MODEL_8af61da5119c46bfae44133cb0137be3"
          }
        },
        "d4218a0e4792444195d09bf8e9e42734": {
          "model_module": "@jupyter-widgets/controls",
          "model_name": "ProgressStyleModel",
          "state": {
            "_view_name": "StyleView",
            "_model_name": "ProgressStyleModel",
            "description_width": "initial",
            "_view_module": "@jupyter-widgets/base",
            "_model_module_version": "1.5.0",
            "_view_count": null,
            "_view_module_version": "1.2.0",
            "bar_color": null,
            "_model_module": "@jupyter-widgets/controls"
          }
        },
        "fe5998b2fa86467596a8df3e3e08b045": {
          "model_module": "@jupyter-widgets/base",
          "model_name": "LayoutModel",
          "state": {
            "_view_name": "LayoutView",
            "grid_template_rows": null,
            "right": null,
            "justify_content": null,
            "_view_module": "@jupyter-widgets/base",
            "overflow": null,
            "_model_module_version": "1.2.0",
            "_view_count": null,
            "flex_flow": null,
            "width": null,
            "min_width": null,
            "border": null,
            "align_items": null,
            "bottom": null,
            "_model_module": "@jupyter-widgets/base",
            "top": null,
            "grid_column": null,
            "overflow_y": null,
            "overflow_x": null,
            "grid_auto_flow": null,
            "grid_area": null,
            "grid_template_columns": null,
            "flex": null,
            "_model_name": "LayoutModel",
            "justify_items": null,
            "grid_row": null,
            "max_height": null,
            "align_content": null,
            "visibility": null,
            "align_self": null,
            "height": null,
            "min_height": null,
            "padding": null,
            "grid_auto_rows": null,
            "grid_gap": null,
            "max_width": null,
            "order": null,
            "_view_module_version": "1.2.0",
            "grid_template_areas": null,
            "object_position": null,
            "object_fit": null,
            "grid_auto_columns": null,
            "margin": null,
            "display": null,
            "left": null
          }
        },
        "7749f2441aaf476c82fdf5a759d58dd2": {
          "model_module": "@jupyter-widgets/controls",
          "model_name": "DescriptionStyleModel",
          "state": {
            "_view_name": "StyleView",
            "_model_name": "DescriptionStyleModel",
            "description_width": "",
            "_view_module": "@jupyter-widgets/base",
            "_model_module_version": "1.5.0",
            "_view_count": null,
            "_view_module_version": "1.2.0",
            "_model_module": "@jupyter-widgets/controls"
          }
        },
        "8af61da5119c46bfae44133cb0137be3": {
          "model_module": "@jupyter-widgets/base",
          "model_name": "LayoutModel",
          "state": {
            "_view_name": "LayoutView",
            "grid_template_rows": null,
            "right": null,
            "justify_content": null,
            "_view_module": "@jupyter-widgets/base",
            "overflow": null,
            "_model_module_version": "1.2.0",
            "_view_count": null,
            "flex_flow": null,
            "width": null,
            "min_width": null,
            "border": null,
            "align_items": null,
            "bottom": null,
            "_model_module": "@jupyter-widgets/base",
            "top": null,
            "grid_column": null,
            "overflow_y": null,
            "overflow_x": null,
            "grid_auto_flow": null,
            "grid_area": null,
            "grid_template_columns": null,
            "flex": null,
            "_model_name": "LayoutModel",
            "justify_items": null,
            "grid_row": null,
            "max_height": null,
            "align_content": null,
            "visibility": null,
            "align_self": null,
            "height": null,
            "min_height": null,
            "padding": null,
            "grid_auto_rows": null,
            "grid_gap": null,
            "max_width": null,
            "order": null,
            "_view_module_version": "1.2.0",
            "grid_template_areas": null,
            "object_position": null,
            "object_fit": null,
            "grid_auto_columns": null,
            "margin": null,
            "display": null,
            "left": null
          }
        },
        "53325390477f499d8f3d5ec0d56568b9": {
          "model_module": "@jupyter-widgets/controls",
          "model_name": "HBoxModel",
          "state": {
            "_view_name": "HBoxView",
            "_dom_classes": [],
            "_model_name": "HBoxModel",
            "_view_module": "@jupyter-widgets/controls",
            "_model_module_version": "1.5.0",
            "_view_count": null,
            "_view_module_version": "1.5.0",
            "box_style": "",
            "layout": "IPY_MODEL_d7a6b36fc54a4e65ae5e77825acb8f2e",
            "_model_module": "@jupyter-widgets/controls",
            "children": [
              "IPY_MODEL_cc494b0bf0d3441eb63d422c6994a54e",
              "IPY_MODEL_32817d994cf1419fbd195e42f04c1b86",
              "IPY_MODEL_8c25caf4f09844cf8ab6c281778bf5a7",
              "IPY_MODEL_814083c3613044daa2de529c4a2aba82",
              "IPY_MODEL_fdb308cadbdb4419ac364de1d574127e"
            ]
          }
        },
        "d7a6b36fc54a4e65ae5e77825acb8f2e": {
          "model_module": "@jupyter-widgets/base",
          "model_name": "LayoutModel",
          "state": {
            "_view_name": "LayoutView",
            "grid_template_rows": null,
            "right": null,
            "justify_content": null,
            "_view_module": "@jupyter-widgets/base",
            "overflow": null,
            "_model_module_version": "1.2.0",
            "_view_count": null,
            "flex_flow": null,
            "width": null,
            "min_width": null,
            "border": null,
            "align_items": null,
            "bottom": null,
            "_model_module": "@jupyter-widgets/base",
            "top": null,
            "grid_column": null,
            "overflow_y": null,
            "overflow_x": null,
            "grid_auto_flow": null,
            "grid_area": null,
            "grid_template_columns": null,
            "flex": null,
            "_model_name": "LayoutModel",
            "justify_items": null,
            "grid_row": null,
            "max_height": null,
            "align_content": null,
            "visibility": null,
            "align_self": null,
            "height": null,
            "min_height": null,
            "padding": null,
            "grid_auto_rows": null,
            "grid_gap": null,
            "max_width": null,
            "order": null,
            "_view_module_version": "1.2.0",
            "grid_template_areas": null,
            "object_position": null,
            "object_fit": null,
            "grid_auto_columns": null,
            "margin": null,
            "display": null,
            "left": null
          }
        },
        "cc494b0bf0d3441eb63d422c6994a54e": {
          "model_module": "@jupyter-widgets/controls",
          "model_name": "VBoxModel",
          "state": {
            "_view_name": "VBoxView",
            "_dom_classes": [],
            "_model_name": "VBoxModel",
            "_view_module": "@jupyter-widgets/controls",
            "_model_module_version": "1.5.0",
            "_view_count": null,
            "_view_module_version": "1.5.0",
            "box_style": "",
            "layout": "IPY_MODEL_c123e5147339440b9a2e1c7322682a23",
            "_model_module": "@jupyter-widgets/controls",
            "children": [
              "IPY_MODEL_00a8977674714471827943df2e0d8f47",
              "IPY_MODEL_17db422e5c9e441fb2e026e888060223",
              "IPY_MODEL_9284a365d93b49dcb84a392dd5b1ffce"
            ]
          }
        },
        "32817d994cf1419fbd195e42f04c1b86": {
          "model_module": "@jupyter-widgets/controls",
          "model_name": "VBoxModel",
          "state": {
            "_view_name": "VBoxView",
            "_dom_classes": [],
            "_model_name": "VBoxModel",
            "_view_module": "@jupyter-widgets/controls",
            "_model_module_version": "1.5.0",
            "_view_count": null,
            "_view_module_version": "1.5.0",
            "box_style": "",
            "layout": "IPY_MODEL_c123e5147339440b9a2e1c7322682a23",
            "_model_module": "@jupyter-widgets/controls",
            "children": [
              "IPY_MODEL_fe46cc9b91a24ce2a265d44b9438e6d0",
              "IPY_MODEL_0da0db8ae0ea4f1baa11f42ac6fd57a1",
              "IPY_MODEL_d14cfb82d984482e9ced3feb86adcbf8"
            ]
          }
        },
        "8c25caf4f09844cf8ab6c281778bf5a7": {
          "model_module": "@jupyter-widgets/controls",
          "model_name": "VBoxModel",
          "state": {
            "_view_name": "VBoxView",
            "_dom_classes": [],
            "_model_name": "VBoxModel",
            "_view_module": "@jupyter-widgets/controls",
            "_model_module_version": "1.5.0",
            "_view_count": null,
            "_view_module_version": "1.5.0",
            "box_style": "",
            "layout": "IPY_MODEL_c123e5147339440b9a2e1c7322682a23",
            "_model_module": "@jupyter-widgets/controls",
            "children": [
              "IPY_MODEL_9891ee3d5227441cb33c5e6f4e28d5a5",
              "IPY_MODEL_6542f901ad90448b82fa7145ece3764a",
              "IPY_MODEL_9f7b82d0362e43ea9e431955a51dbf46"
            ]
          }
        },
        "814083c3613044daa2de529c4a2aba82": {
          "model_module": "@jupyter-widgets/controls",
          "model_name": "VBoxModel",
          "state": {
            "_view_name": "VBoxView",
            "_dom_classes": [],
            "_model_name": "VBoxModel",
            "_view_module": "@jupyter-widgets/controls",
            "_model_module_version": "1.5.0",
            "_view_count": null,
            "_view_module_version": "1.5.0",
            "box_style": "",
            "layout": "IPY_MODEL_c123e5147339440b9a2e1c7322682a23",
            "_model_module": "@jupyter-widgets/controls",
            "children": [
              "IPY_MODEL_d0e2f386f158443584cf8674db97a22c",
              "IPY_MODEL_084266c2f13441f4a2a58501f213edde",
              "IPY_MODEL_3156195675b4457c9d12c228799416cd"
            ]
          }
        },
        "fdb308cadbdb4419ac364de1d574127e": {
          "model_module": "@jupyter-widgets/controls",
          "model_name": "VBoxModel",
          "state": {
            "_view_name": "VBoxView",
            "_dom_classes": [],
            "_model_name": "VBoxModel",
            "_view_module": "@jupyter-widgets/controls",
            "_model_module_version": "1.5.0",
            "_view_count": null,
            "_view_module_version": "1.5.0",
            "box_style": "",
            "layout": "IPY_MODEL_c123e5147339440b9a2e1c7322682a23",
            "_model_module": "@jupyter-widgets/controls",
            "children": [
              "IPY_MODEL_5f55557bb7654571b124e049766067ba",
              "IPY_MODEL_b8a71ab4df4f46d7a3a7db6b1caf472e",
              "IPY_MODEL_3025d5a910194b7e8ee9b46179f49ed9"
            ]
          }
        },
        "c123e5147339440b9a2e1c7322682a23": {
          "model_module": "@jupyter-widgets/base",
          "model_name": "LayoutModel",
          "state": {
            "_view_name": "LayoutView",
            "grid_template_rows": null,
            "right": null,
            "justify_content": null,
            "_view_module": "@jupyter-widgets/base",
            "overflow": null,
            "_model_module_version": "1.2.0",
            "_view_count": null,
            "flex_flow": null,
            "width": "auto",
            "min_width": null,
            "border": null,
            "align_items": null,
            "bottom": null,
            "_model_module": "@jupyter-widgets/base",
            "top": null,
            "grid_column": null,
            "overflow_y": null,
            "overflow_x": "hidden",
            "grid_auto_flow": null,
            "grid_area": null,
            "grid_template_columns": null,
            "flex": null,
            "_model_name": "LayoutModel",
            "justify_items": null,
            "grid_row": null,
            "max_height": null,
            "align_content": null,
            "visibility": null,
            "align_self": null,
            "height": "300px",
            "min_height": null,
            "padding": null,
            "grid_auto_rows": null,
            "grid_gap": null,
            "max_width": null,
            "order": null,
            "_view_module_version": "1.2.0",
            "grid_template_areas": null,
            "object_position": null,
            "object_fit": null,
            "grid_auto_columns": null,
            "margin": null,
            "display": null,
            "left": null
          }
        },
        "00a8977674714471827943df2e0d8f47": {
          "model_module": "@jupyter-widgets/controls",
          "model_name": "ImageModel",
          "state": {
            "_view_name": "ImageView",
            "_dom_classes": [],
            "_model_name": "ImageModel",
            "format": "jpg",
            "_view_module": "@jupyter-widgets/controls",
            "_model_module_version": "1.5.0",
            "_view_count": null,
            "width": "",
            "_view_module_version": "1.5.0",
            "layout": "IPY_MODEL_70546fcb989144058f5dffb3401a0bc9",
            "height": "",
            "_model_module": "@jupyter-widgets/controls"
          }
        },
        "17db422e5c9e441fb2e026e888060223": {
          "model_module": "@jupyter-widgets/controls",
          "model_name": "DropdownModel",
          "state": {
            "_options_labels": [
              "peach",
              "pear",
              "strawberry",
              "watermelon"
            ],
            "_view_name": "DropdownView",
            "style": "IPY_MODEL_4872aa081d2a408ba8b329e9451c4362",
            "_dom_classes": [],
            "description": "",
            "_model_name": "DropdownModel",
            "index": 0,
            "_view_module": "@jupyter-widgets/controls",
            "_model_module_version": "1.5.0",
            "_view_count": null,
            "disabled": false,
            "_view_module_version": "1.5.0",
            "description_tooltip": null,
            "_model_module": "@jupyter-widgets/controls",
            "layout": "IPY_MODEL_445c22b138a94737985a4661c7bdde42"
          }
        },
        "9284a365d93b49dcb84a392dd5b1ffce": {
          "model_module": "@jupyter-widgets/controls",
          "model_name": "ButtonModel",
          "state": {
            "_view_name": "ButtonView",
            "style": "IPY_MODEL_bfc9121267914538a854ee25cda1ab6f",
            "_dom_classes": [],
            "description": "Delete",
            "_model_name": "ButtonModel",
            "button_style": "danger",
            "_view_module": "@jupyter-widgets/controls",
            "_model_module_version": "1.5.0",
            "tooltip": "",
            "_view_count": null,
            "disabled": false,
            "_view_module_version": "1.5.0",
            "layout": "IPY_MODEL_be05e40e708342788114319b6e52a083",
            "_model_module": "@jupyter-widgets/controls",
            "icon": ""
          }
        },
        "fe46cc9b91a24ce2a265d44b9438e6d0": {
          "model_module": "@jupyter-widgets/controls",
          "model_name": "ImageModel",
          "state": {
            "_view_name": "ImageView",
            "_dom_classes": [],
            "_model_name": "ImageModel",
            "format": "jpg",
            "_view_module": "@jupyter-widgets/controls",
            "_model_module_version": "1.5.0",
            "_view_count": null,
            "width": "",
            "_view_module_version": "1.5.0",
            "layout": "IPY_MODEL_70546fcb989144058f5dffb3401a0bc9",
            "height": "",
            "_model_module": "@jupyter-widgets/controls"
          }
        },
        "0da0db8ae0ea4f1baa11f42ac6fd57a1": {
          "model_module": "@jupyter-widgets/controls",
          "model_name": "DropdownModel",
          "state": {
            "_options_labels": [
              "peach",
              "pear",
              "strawberry",
              "watermelon"
            ],
            "_view_name": "DropdownView",
            "style": "IPY_MODEL_89d7739c0ea040b891f81e6aa98162e0",
            "_dom_classes": [],
            "description": "",
            "_model_name": "DropdownModel",
            "index": 2,
            "_view_module": "@jupyter-widgets/controls",
            "_model_module_version": "1.5.0",
            "_view_count": null,
            "disabled": false,
            "_view_module_version": "1.5.0",
            "description_tooltip": null,
            "_model_module": "@jupyter-widgets/controls",
            "layout": "IPY_MODEL_445c22b138a94737985a4661c7bdde42"
          }
        },
        "d14cfb82d984482e9ced3feb86adcbf8": {
          "model_module": "@jupyter-widgets/controls",
          "model_name": "ButtonModel",
          "state": {
            "_view_name": "ButtonView",
            "style": "IPY_MODEL_e981912475884674b261dabc148d483b",
            "_dom_classes": [],
            "description": "Delete",
            "_model_name": "ButtonModel",
            "button_style": "",
            "_view_module": "@jupyter-widgets/controls",
            "_model_module_version": "1.5.0",
            "tooltip": "",
            "_view_count": null,
            "disabled": false,
            "_view_module_version": "1.5.0",
            "layout": "IPY_MODEL_be05e40e708342788114319b6e52a083",
            "_model_module": "@jupyter-widgets/controls",
            "icon": ""
          }
        },
        "9891ee3d5227441cb33c5e6f4e28d5a5": {
          "model_module": "@jupyter-widgets/controls",
          "model_name": "ImageModel",
          "state": {
            "_view_name": "ImageView",
            "_dom_classes": [],
            "_model_name": "ImageModel",
            "format": "jpg",
            "_view_module": "@jupyter-widgets/controls",
            "_model_module_version": "1.5.0",
            "_view_count": null,
            "width": "",
            "_view_module_version": "1.5.0",
            "layout": "IPY_MODEL_70546fcb989144058f5dffb3401a0bc9",
            "height": "",
            "_model_module": "@jupyter-widgets/controls"
          }
        },
        "6542f901ad90448b82fa7145ece3764a": {
          "model_module": "@jupyter-widgets/controls",
          "model_name": "DropdownModel",
          "state": {
            "_options_labels": [
              "peach",
              "pear",
              "strawberry",
              "watermelon"
            ],
            "_view_name": "DropdownView",
            "style": "IPY_MODEL_0201ea1860154c7098607f872aee68a9",
            "_dom_classes": [],
            "description": "",
            "_model_name": "DropdownModel",
            "index": 2,
            "_view_module": "@jupyter-widgets/controls",
            "_model_module_version": "1.5.0",
            "_view_count": null,
            "disabled": false,
            "_view_module_version": "1.5.0",
            "description_tooltip": null,
            "_model_module": "@jupyter-widgets/controls",
            "layout": "IPY_MODEL_445c22b138a94737985a4661c7bdde42"
          }
        },
        "9f7b82d0362e43ea9e431955a51dbf46": {
          "model_module": "@jupyter-widgets/controls",
          "model_name": "ButtonModel",
          "state": {
            "_view_name": "ButtonView",
            "style": "IPY_MODEL_88a7539418ae45b29ed7852403de2560",
            "_dom_classes": [],
            "description": "Delete",
            "_model_name": "ButtonModel",
            "button_style": "danger",
            "_view_module": "@jupyter-widgets/controls",
            "_model_module_version": "1.5.0",
            "tooltip": "",
            "_view_count": null,
            "disabled": false,
            "_view_module_version": "1.5.0",
            "layout": "IPY_MODEL_be05e40e708342788114319b6e52a083",
            "_model_module": "@jupyter-widgets/controls",
            "icon": ""
          }
        },
        "d0e2f386f158443584cf8674db97a22c": {
          "model_module": "@jupyter-widgets/controls",
          "model_name": "ImageModel",
          "state": {
            "_view_name": "ImageView",
            "_dom_classes": [],
            "_model_name": "ImageModel",
            "format": "jpg",
            "_view_module": "@jupyter-widgets/controls",
            "_model_module_version": "1.5.0",
            "_view_count": null,
            "width": "",
            "_view_module_version": "1.5.0",
            "layout": "IPY_MODEL_70546fcb989144058f5dffb3401a0bc9",
            "height": "",
            "_model_module": "@jupyter-widgets/controls"
          }
        },
        "084266c2f13441f4a2a58501f213edde": {
          "model_module": "@jupyter-widgets/controls",
          "model_name": "DropdownModel",
          "state": {
            "_options_labels": [
              "peach",
              "pear",
              "strawberry",
              "watermelon"
            ],
            "_view_name": "DropdownView",
            "style": "IPY_MODEL_1a4616cd99444290ab1e91984f86f9a5",
            "_dom_classes": [],
            "description": "",
            "_model_name": "DropdownModel",
            "index": 2,
            "_view_module": "@jupyter-widgets/controls",
            "_model_module_version": "1.5.0",
            "_view_count": null,
            "disabled": false,
            "_view_module_version": "1.5.0",
            "description_tooltip": null,
            "_model_module": "@jupyter-widgets/controls",
            "layout": "IPY_MODEL_445c22b138a94737985a4661c7bdde42"
          }
        },
        "3156195675b4457c9d12c228799416cd": {
          "model_module": "@jupyter-widgets/controls",
          "model_name": "ButtonModel",
          "state": {
            "_view_name": "ButtonView",
            "style": "IPY_MODEL_831405d814c74afcb40edde78e2121be",
            "_dom_classes": [],
            "description": "Delete",
            "_model_name": "ButtonModel",
            "button_style": "danger",
            "_view_module": "@jupyter-widgets/controls",
            "_model_module_version": "1.5.0",
            "tooltip": "",
            "_view_count": null,
            "disabled": false,
            "_view_module_version": "1.5.0",
            "layout": "IPY_MODEL_be05e40e708342788114319b6e52a083",
            "_model_module": "@jupyter-widgets/controls",
            "icon": ""
          }
        },
        "5f55557bb7654571b124e049766067ba": {
          "model_module": "@jupyter-widgets/controls",
          "model_name": "ImageModel",
          "state": {
            "_view_name": "ImageView",
            "_dom_classes": [],
            "_model_name": "ImageModel",
            "format": "jpg",
            "_view_module": "@jupyter-widgets/controls",
            "_model_module_version": "1.5.0",
            "_view_count": null,
            "width": "",
            "_view_module_version": "1.5.0",
            "layout": "IPY_MODEL_70546fcb989144058f5dffb3401a0bc9",
            "height": "",
            "_model_module": "@jupyter-widgets/controls"
          }
        },
        "b8a71ab4df4f46d7a3a7db6b1caf472e": {
          "model_module": "@jupyter-widgets/controls",
          "model_name": "DropdownModel",
          "state": {
            "_options_labels": [
              "peach",
              "pear",
              "strawberry",
              "watermelon"
            ],
            "_view_name": "DropdownView",
            "style": "IPY_MODEL_34ed6cbd06264f019b1c116995ca1044",
            "_dom_classes": [],
            "description": "",
            "_model_name": "DropdownModel",
            "index": 2,
            "_view_module": "@jupyter-widgets/controls",
            "_model_module_version": "1.5.0",
            "_view_count": null,
            "disabled": false,
            "_view_module_version": "1.5.0",
            "description_tooltip": null,
            "_model_module": "@jupyter-widgets/controls",
            "layout": "IPY_MODEL_445c22b138a94737985a4661c7bdde42"
          }
        },
        "3025d5a910194b7e8ee9b46179f49ed9": {
          "model_module": "@jupyter-widgets/controls",
          "model_name": "ButtonModel",
          "state": {
            "_view_name": "ButtonView",
            "style": "IPY_MODEL_40d7f8b323c34766aaf9bb6f93348ef2",
            "_dom_classes": [],
            "description": "Delete",
            "_model_name": "ButtonModel",
            "button_style": "",
            "_view_module": "@jupyter-widgets/controls",
            "_model_module_version": "1.5.0",
            "tooltip": "",
            "_view_count": null,
            "disabled": false,
            "_view_module_version": "1.5.0",
            "layout": "IPY_MODEL_be05e40e708342788114319b6e52a083",
            "_model_module": "@jupyter-widgets/controls",
            "icon": ""
          }
        },
        "70546fcb989144058f5dffb3401a0bc9": {
          "model_module": "@jupyter-widgets/base",
          "model_name": "LayoutModel",
          "state": {
            "_view_name": "LayoutView",
            "grid_template_rows": null,
            "right": null,
            "justify_content": null,
            "_view_module": "@jupyter-widgets/base",
            "overflow": null,
            "_model_module_version": "1.2.0",
            "_view_count": null,
            "flex_flow": null,
            "width": "300px",
            "min_width": null,
            "border": null,
            "align_items": null,
            "bottom": null,
            "_model_module": "@jupyter-widgets/base",
            "top": null,
            "grid_column": null,
            "overflow_y": null,
            "overflow_x": null,
            "grid_auto_flow": null,
            "grid_area": null,
            "grid_template_columns": null,
            "flex": null,
            "_model_name": "LayoutModel",
            "justify_items": null,
            "grid_row": null,
            "max_height": null,
            "align_content": null,
            "visibility": null,
            "align_self": null,
            "height": "250px",
            "min_height": null,
            "padding": null,
            "grid_auto_rows": null,
            "grid_gap": null,
            "max_width": null,
            "order": null,
            "_view_module_version": "1.2.0",
            "grid_template_areas": null,
            "object_position": null,
            "object_fit": null,
            "grid_auto_columns": null,
            "margin": null,
            "display": null,
            "left": null
          }
        },
        "4872aa081d2a408ba8b329e9451c4362": {
          "model_module": "@jupyter-widgets/controls",
          "model_name": "DescriptionStyleModel",
          "state": {
            "_view_name": "StyleView",
            "_model_name": "DescriptionStyleModel",
            "description_width": "",
            "_view_module": "@jupyter-widgets/base",
            "_model_module_version": "1.5.0",
            "_view_count": null,
            "_view_module_version": "1.2.0",
            "_model_module": "@jupyter-widgets/controls"
          }
        },
        "445c22b138a94737985a4661c7bdde42": {
          "model_module": "@jupyter-widgets/base",
          "model_name": "LayoutModel",
          "state": {
            "_view_name": "LayoutView",
            "grid_template_rows": null,
            "right": null,
            "justify_content": null,
            "_view_module": "@jupyter-widgets/base",
            "overflow": null,
            "_model_module_version": "1.2.0",
            "_view_count": null,
            "flex_flow": null,
            "width": "auto",
            "min_width": null,
            "border": null,
            "align_items": null,
            "bottom": null,
            "_model_module": "@jupyter-widgets/base",
            "top": null,
            "grid_column": null,
            "overflow_y": null,
            "overflow_x": null,
            "grid_auto_flow": null,
            "grid_area": null,
            "grid_template_columns": null,
            "flex": null,
            "_model_name": "LayoutModel",
            "justify_items": null,
            "grid_row": null,
            "max_height": null,
            "align_content": null,
            "visibility": null,
            "align_self": null,
            "height": null,
            "min_height": null,
            "padding": null,
            "grid_auto_rows": null,
            "grid_gap": null,
            "max_width": null,
            "order": null,
            "_view_module_version": "1.2.0",
            "grid_template_areas": null,
            "object_position": null,
            "object_fit": null,
            "grid_auto_columns": null,
            "margin": null,
            "display": null,
            "left": null
          }
        },
        "bfc9121267914538a854ee25cda1ab6f": {
          "model_module": "@jupyter-widgets/controls",
          "model_name": "ButtonStyleModel",
          "state": {
            "_view_name": "StyleView",
            "_model_name": "ButtonStyleModel",
            "_view_module": "@jupyter-widgets/base",
            "_model_module_version": "1.5.0",
            "_view_count": null,
            "button_color": null,
            "font_weight": "",
            "_view_module_version": "1.2.0",
            "_model_module": "@jupyter-widgets/controls"
          }
        },
        "be05e40e708342788114319b6e52a083": {
          "model_module": "@jupyter-widgets/base",
          "model_name": "LayoutModel",
          "state": {
            "_view_name": "LayoutView",
            "grid_template_rows": null,
            "right": null,
            "justify_content": null,
            "_view_module": "@jupyter-widgets/base",
            "overflow": null,
            "_model_module_version": "1.2.0",
            "_view_count": null,
            "flex_flow": null,
            "width": "auto",
            "min_width": null,
            "border": null,
            "align_items": null,
            "bottom": null,
            "_model_module": "@jupyter-widgets/base",
            "top": null,
            "grid_column": null,
            "overflow_y": null,
            "overflow_x": null,
            "grid_auto_flow": null,
            "grid_area": null,
            "grid_template_columns": null,
            "flex": null,
            "_model_name": "LayoutModel",
            "justify_items": null,
            "grid_row": null,
            "max_height": null,
            "align_content": null,
            "visibility": null,
            "align_self": null,
            "height": null,
            "min_height": null,
            "padding": null,
            "grid_auto_rows": null,
            "grid_gap": null,
            "max_width": null,
            "order": null,
            "_view_module_version": "1.2.0",
            "grid_template_areas": null,
            "object_position": null,
            "object_fit": null,
            "grid_auto_columns": null,
            "margin": null,
            "display": null,
            "left": null
          }
        },
        "89d7739c0ea040b891f81e6aa98162e0": {
          "model_module": "@jupyter-widgets/controls",
          "model_name": "DescriptionStyleModel",
          "state": {
            "_view_name": "StyleView",
            "_model_name": "DescriptionStyleModel",
            "description_width": "",
            "_view_module": "@jupyter-widgets/base",
            "_model_module_version": "1.5.0",
            "_view_count": null,
            "_view_module_version": "1.2.0",
            "_model_module": "@jupyter-widgets/controls"
          }
        },
        "e981912475884674b261dabc148d483b": {
          "model_module": "@jupyter-widgets/controls",
          "model_name": "ButtonStyleModel",
          "state": {
            "_view_name": "StyleView",
            "_model_name": "ButtonStyleModel",
            "_view_module": "@jupyter-widgets/base",
            "_model_module_version": "1.5.0",
            "_view_count": null,
            "button_color": null,
            "font_weight": "",
            "_view_module_version": "1.2.0",
            "_model_module": "@jupyter-widgets/controls"
          }
        },
        "0201ea1860154c7098607f872aee68a9": {
          "model_module": "@jupyter-widgets/controls",
          "model_name": "DescriptionStyleModel",
          "state": {
            "_view_name": "StyleView",
            "_model_name": "DescriptionStyleModel",
            "description_width": "",
            "_view_module": "@jupyter-widgets/base",
            "_model_module_version": "1.5.0",
            "_view_count": null,
            "_view_module_version": "1.2.0",
            "_model_module": "@jupyter-widgets/controls"
          }
        },
        "88a7539418ae45b29ed7852403de2560": {
          "model_module": "@jupyter-widgets/controls",
          "model_name": "ButtonStyleModel",
          "state": {
            "_view_name": "StyleView",
            "_model_name": "ButtonStyleModel",
            "_view_module": "@jupyter-widgets/base",
            "_model_module_version": "1.5.0",
            "_view_count": null,
            "button_color": null,
            "font_weight": "",
            "_view_module_version": "1.2.0",
            "_model_module": "@jupyter-widgets/controls"
          }
        },
        "1a4616cd99444290ab1e91984f86f9a5": {
          "model_module": "@jupyter-widgets/controls",
          "model_name": "DescriptionStyleModel",
          "state": {
            "_view_name": "StyleView",
            "_model_name": "DescriptionStyleModel",
            "description_width": "",
            "_view_module": "@jupyter-widgets/base",
            "_model_module_version": "1.5.0",
            "_view_count": null,
            "_view_module_version": "1.2.0",
            "_model_module": "@jupyter-widgets/controls"
          }
        },
        "831405d814c74afcb40edde78e2121be": {
          "model_module": "@jupyter-widgets/controls",
          "model_name": "ButtonStyleModel",
          "state": {
            "_view_name": "StyleView",
            "_model_name": "ButtonStyleModel",
            "_view_module": "@jupyter-widgets/base",
            "_model_module_version": "1.5.0",
            "_view_count": null,
            "button_color": null,
            "font_weight": "",
            "_view_module_version": "1.2.0",
            "_model_module": "@jupyter-widgets/controls"
          }
        },
        "34ed6cbd06264f019b1c116995ca1044": {
          "model_module": "@jupyter-widgets/controls",
          "model_name": "DescriptionStyleModel",
          "state": {
            "_view_name": "StyleView",
            "_model_name": "DescriptionStyleModel",
            "description_width": "",
            "_view_module": "@jupyter-widgets/base",
            "_model_module_version": "1.5.0",
            "_view_count": null,
            "_view_module_version": "1.2.0",
            "_model_module": "@jupyter-widgets/controls"
          }
        },
        "40d7f8b323c34766aaf9bb6f93348ef2": {
          "model_module": "@jupyter-widgets/controls",
          "model_name": "ButtonStyleModel",
          "state": {
            "_view_name": "StyleView",
            "_model_name": "ButtonStyleModel",
            "_view_module": "@jupyter-widgets/base",
            "_model_module_version": "1.5.0",
            "_view_count": null,
            "button_color": null,
            "font_weight": "",
            "_view_module_version": "1.2.0",
            "_model_module": "@jupyter-widgets/controls"
          }
        },
        "ce4848fb7bfd4c3ea4ec0e999ca8c8f5": {
          "model_module": "@jupyter-widgets/controls",
          "model_name": "ButtonModel",
          "state": {
            "_view_name": "ButtonView",
            "style": "IPY_MODEL_ca66712861884b5f9f748ab83ca53648",
            "_dom_classes": [],
            "description": "Next Batch",
            "_model_name": "ButtonModel",
            "button_style": "primary",
            "_view_module": "@jupyter-widgets/controls",
            "_model_module_version": "1.5.0",
            "tooltip": "",
            "_view_count": null,
            "disabled": false,
            "_view_module_version": "1.5.0",
            "layout": "IPY_MODEL_be05e40e708342788114319b6e52a083",
            "_model_module": "@jupyter-widgets/controls",
            "icon": ""
          }
        },
        "ca66712861884b5f9f748ab83ca53648": {
          "model_module": "@jupyter-widgets/controls",
          "model_name": "ButtonStyleModel",
          "state": {
            "_view_name": "StyleView",
            "_model_name": "ButtonStyleModel",
            "_view_module": "@jupyter-widgets/base",
            "_model_module_version": "1.5.0",
            "_view_count": null,
            "button_color": null,
            "font_weight": "",
            "_view_module_version": "1.2.0",
            "_model_module": "@jupyter-widgets/controls"
          }
        },
        "d9a49fc2b4f6444aaca7c129bf8eb3fa": {
          "model_module": "@jupyter-widgets/controls",
          "model_name": "HBoxModel",
          "state": {
            "_view_name": "HBoxView",
            "_dom_classes": [],
            "_model_name": "HBoxModel",
            "_view_module": "@jupyter-widgets/controls",
            "_model_module_version": "1.5.0",
            "_view_count": null,
            "_view_module_version": "1.5.0",
            "box_style": "",
            "layout": "IPY_MODEL_d7a6b36fc54a4e65ae5e77825acb8f2e",
            "_model_module": "@jupyter-widgets/controls",
            "children": [
              "IPY_MODEL_c28211d2ca224a05837ee39c7a80d9f2",
              "IPY_MODEL_d028afcf65dc43eda150590165294391",
              "IPY_MODEL_ce78e79dca734b34b3f484ec707a9a0c",
              "IPY_MODEL_fcc0766219d0440da1a7c0179cbe5020",
              "IPY_MODEL_d8b965647f224c51a42ece27318b86ef"
            ]
          }
        },
        "c28211d2ca224a05837ee39c7a80d9f2": {
          "model_module": "@jupyter-widgets/controls",
          "model_name": "VBoxModel",
          "state": {
            "_view_name": "VBoxView",
            "_dom_classes": [],
            "_model_name": "VBoxModel",
            "_view_module": "@jupyter-widgets/controls",
            "_model_module_version": "1.5.0",
            "_view_count": null,
            "_view_module_version": "1.5.0",
            "box_style": "",
            "layout": "IPY_MODEL_c123e5147339440b9a2e1c7322682a23",
            "_model_module": "@jupyter-widgets/controls",
            "children": [
              "IPY_MODEL_54454b2cb2dc47048b8d3cfee8d50735",
              "IPY_MODEL_e52ae05d2d2a41a59d92b81579ba1d9f",
              "IPY_MODEL_bec032247bae4872a5b0bd420e94fea8"
            ]
          }
        },
        "d028afcf65dc43eda150590165294391": {
          "model_module": "@jupyter-widgets/controls",
          "model_name": "VBoxModel",
          "state": {
            "_view_name": "VBoxView",
            "_dom_classes": [],
            "_model_name": "VBoxModel",
            "_view_module": "@jupyter-widgets/controls",
            "_model_module_version": "1.5.0",
            "_view_count": null,
            "_view_module_version": "1.5.0",
            "box_style": "",
            "layout": "IPY_MODEL_c123e5147339440b9a2e1c7322682a23",
            "_model_module": "@jupyter-widgets/controls",
            "children": [
              "IPY_MODEL_b7d777695d864b40ada1dda55029ab73",
              "IPY_MODEL_f91a7ef34b28464b9b51c0f8ec2e08c5",
              "IPY_MODEL_b2bc8fc573394131a9baca4b8886c611"
            ]
          }
        },
        "ce78e79dca734b34b3f484ec707a9a0c": {
          "model_module": "@jupyter-widgets/controls",
          "model_name": "VBoxModel",
          "state": {
            "_view_name": "VBoxView",
            "_dom_classes": [],
            "_model_name": "VBoxModel",
            "_view_module": "@jupyter-widgets/controls",
            "_model_module_version": "1.5.0",
            "_view_count": null,
            "_view_module_version": "1.5.0",
            "box_style": "",
            "layout": "IPY_MODEL_c123e5147339440b9a2e1c7322682a23",
            "_model_module": "@jupyter-widgets/controls",
            "children": [
              "IPY_MODEL_d25e31a1226f4afbb837ed6b1ddf209e",
              "IPY_MODEL_e5ecda9f937e4c15add2cc8eeeec9073",
              "IPY_MODEL_18ee5a146f504874ba6b033fe6e538d2"
            ]
          }
        },
        "fcc0766219d0440da1a7c0179cbe5020": {
          "model_module": "@jupyter-widgets/controls",
          "model_name": "VBoxModel",
          "state": {
            "_view_name": "VBoxView",
            "_dom_classes": [],
            "_model_name": "VBoxModel",
            "_view_module": "@jupyter-widgets/controls",
            "_model_module_version": "1.5.0",
            "_view_count": null,
            "_view_module_version": "1.5.0",
            "box_style": "",
            "layout": "IPY_MODEL_c123e5147339440b9a2e1c7322682a23",
            "_model_module": "@jupyter-widgets/controls",
            "children": [
              "IPY_MODEL_451768a42df948388125f82d622c7b2e",
              "IPY_MODEL_496c3ec4db6b41e798aca6f3c0b00b89",
              "IPY_MODEL_f35f39a3ddd24e65ba0f800478662c02"
            ]
          }
        },
        "d8b965647f224c51a42ece27318b86ef": {
          "model_module": "@jupyter-widgets/controls",
          "model_name": "VBoxModel",
          "state": {
            "_view_name": "VBoxView",
            "_dom_classes": [],
            "_model_name": "VBoxModel",
            "_view_module": "@jupyter-widgets/controls",
            "_model_module_version": "1.5.0",
            "_view_count": null,
            "_view_module_version": "1.5.0",
            "box_style": "",
            "layout": "IPY_MODEL_c123e5147339440b9a2e1c7322682a23",
            "_model_module": "@jupyter-widgets/controls",
            "children": [
              "IPY_MODEL_0e0510a9155b4648a541815e07aca8b2",
              "IPY_MODEL_981bb5069d74480f987ddbd09f0aae51",
              "IPY_MODEL_b0ee3a85332643d9bd03ba6750fa2ba3"
            ]
          }
        },
        "54454b2cb2dc47048b8d3cfee8d50735": {
          "model_module": "@jupyter-widgets/controls",
          "model_name": "ImageModel",
          "state": {
            "_view_name": "ImageView",
            "_dom_classes": [],
            "_model_name": "ImageModel",
            "format": "jpg",
            "_view_module": "@jupyter-widgets/controls",
            "_model_module_version": "1.5.0",
            "_view_count": null,
            "width": "",
            "_view_module_version": "1.5.0",
            "layout": "IPY_MODEL_70546fcb989144058f5dffb3401a0bc9",
            "height": "",
            "_model_module": "@jupyter-widgets/controls"
          }
        },
        "e52ae05d2d2a41a59d92b81579ba1d9f": {
          "model_module": "@jupyter-widgets/controls",
          "model_name": "DropdownModel",
          "state": {
            "_options_labels": [
              "peach",
              "pear",
              "strawberry",
              "watermelon"
            ],
            "_view_name": "DropdownView",
            "style": "IPY_MODEL_04ddc1a8e2b543cc9d8186a38b3b5d62",
            "_dom_classes": [],
            "description": "",
            "_model_name": "DropdownModel",
            "index": 0,
            "_view_module": "@jupyter-widgets/controls",
            "_model_module_version": "1.5.0",
            "_view_count": null,
            "disabled": false,
            "_view_module_version": "1.5.0",
            "description_tooltip": null,
            "_model_module": "@jupyter-widgets/controls",
            "layout": "IPY_MODEL_445c22b138a94737985a4661c7bdde42"
          }
        },
        "bec032247bae4872a5b0bd420e94fea8": {
          "model_module": "@jupyter-widgets/controls",
          "model_name": "ButtonModel",
          "state": {
            "_view_name": "ButtonView",
            "style": "IPY_MODEL_bb90edadc72c46418be92809dcec146b",
            "_dom_classes": [],
            "description": "Delete",
            "_model_name": "ButtonModel",
            "button_style": "",
            "_view_module": "@jupyter-widgets/controls",
            "_model_module_version": "1.5.0",
            "tooltip": "",
            "_view_count": null,
            "disabled": false,
            "_view_module_version": "1.5.0",
            "layout": "IPY_MODEL_be05e40e708342788114319b6e52a083",
            "_model_module": "@jupyter-widgets/controls",
            "icon": ""
          }
        },
        "b7d777695d864b40ada1dda55029ab73": {
          "model_module": "@jupyter-widgets/controls",
          "model_name": "ImageModel",
          "state": {
            "_view_name": "ImageView",
            "_dom_classes": [],
            "_model_name": "ImageModel",
            "format": "jpg",
            "_view_module": "@jupyter-widgets/controls",
            "_model_module_version": "1.5.0",
            "_view_count": null,
            "width": "",
            "_view_module_version": "1.5.0",
            "layout": "IPY_MODEL_70546fcb989144058f5dffb3401a0bc9",
            "height": "",
            "_model_module": "@jupyter-widgets/controls"
          }
        },
        "f91a7ef34b28464b9b51c0f8ec2e08c5": {
          "model_module": "@jupyter-widgets/controls",
          "model_name": "DropdownModel",
          "state": {
            "_options_labels": [
              "peach",
              "pear",
              "strawberry",
              "watermelon"
            ],
            "_view_name": "DropdownView",
            "style": "IPY_MODEL_d69dc45015894a52b88fc97812160e64",
            "_dom_classes": [],
            "description": "",
            "_model_name": "DropdownModel",
            "index": 2,
            "_view_module": "@jupyter-widgets/controls",
            "_model_module_version": "1.5.0",
            "_view_count": null,
            "disabled": false,
            "_view_module_version": "1.5.0",
            "description_tooltip": null,
            "_model_module": "@jupyter-widgets/controls",
            "layout": "IPY_MODEL_445c22b138a94737985a4661c7bdde42"
          }
        },
        "b2bc8fc573394131a9baca4b8886c611": {
          "model_module": "@jupyter-widgets/controls",
          "model_name": "ButtonModel",
          "state": {
            "_view_name": "ButtonView",
            "style": "IPY_MODEL_eb0f1a4800844efaa516abf5b7fc10a9",
            "_dom_classes": [],
            "description": "Delete",
            "_model_name": "ButtonModel",
            "button_style": "",
            "_view_module": "@jupyter-widgets/controls",
            "_model_module_version": "1.5.0",
            "tooltip": "",
            "_view_count": null,
            "disabled": false,
            "_view_module_version": "1.5.0",
            "layout": "IPY_MODEL_be05e40e708342788114319b6e52a083",
            "_model_module": "@jupyter-widgets/controls",
            "icon": ""
          }
        },
        "d25e31a1226f4afbb837ed6b1ddf209e": {
          "model_module": "@jupyter-widgets/controls",
          "model_name": "ImageModel",
          "state": {
            "_view_name": "ImageView",
            "_dom_classes": [],
            "_model_name": "ImageModel",
            "format": "jpg",
            "_view_module": "@jupyter-widgets/controls",
            "_model_module_version": "1.5.0",
            "_view_count": null,
            "width": "",
            "_view_module_version": "1.5.0",
            "layout": "IPY_MODEL_70546fcb989144058f5dffb3401a0bc9",
            "height": "",
            "_model_module": "@jupyter-widgets/controls"
          }
        },
        "e5ecda9f937e4c15add2cc8eeeec9073": {
          "model_module": "@jupyter-widgets/controls",
          "model_name": "DropdownModel",
          "state": {
            "_options_labels": [
              "peach",
              "pear",
              "strawberry",
              "watermelon"
            ],
            "_view_name": "DropdownView",
            "style": "IPY_MODEL_cb29d98374c946a6840d9c6dd98c6a33",
            "_dom_classes": [],
            "description": "",
            "_model_name": "DropdownModel",
            "index": 1,
            "_view_module": "@jupyter-widgets/controls",
            "_model_module_version": "1.5.0",
            "_view_count": null,
            "disabled": false,
            "_view_module_version": "1.5.0",
            "description_tooltip": null,
            "_model_module": "@jupyter-widgets/controls",
            "layout": "IPY_MODEL_445c22b138a94737985a4661c7bdde42"
          }
        },
        "18ee5a146f504874ba6b033fe6e538d2": {
          "model_module": "@jupyter-widgets/controls",
          "model_name": "ButtonModel",
          "state": {
            "_view_name": "ButtonView",
            "style": "IPY_MODEL_97c501faade442349b110f6da4e0a78a",
            "_dom_classes": [],
            "description": "Delete",
            "_model_name": "ButtonModel",
            "button_style": "danger",
            "_view_module": "@jupyter-widgets/controls",
            "_model_module_version": "1.5.0",
            "tooltip": "",
            "_view_count": null,
            "disabled": false,
            "_view_module_version": "1.5.0",
            "layout": "IPY_MODEL_be05e40e708342788114319b6e52a083",
            "_model_module": "@jupyter-widgets/controls",
            "icon": ""
          }
        },
        "451768a42df948388125f82d622c7b2e": {
          "model_module": "@jupyter-widgets/controls",
          "model_name": "ImageModel",
          "state": {
            "_view_name": "ImageView",
            "_dom_classes": [],
            "_model_name": "ImageModel",
            "format": "jpg",
            "_view_module": "@jupyter-widgets/controls",
            "_model_module_version": "1.5.0",
            "_view_count": null,
            "width": "",
            "_view_module_version": "1.5.0",
            "layout": "IPY_MODEL_70546fcb989144058f5dffb3401a0bc9",
            "height": "",
            "_model_module": "@jupyter-widgets/controls"
          }
        },
        "496c3ec4db6b41e798aca6f3c0b00b89": {
          "model_module": "@jupyter-widgets/controls",
          "model_name": "DropdownModel",
          "state": {
            "_options_labels": [
              "peach",
              "pear",
              "strawberry",
              "watermelon"
            ],
            "_view_name": "DropdownView",
            "style": "IPY_MODEL_e53b5a45d5a749f49c277ae18b918de7",
            "_dom_classes": [],
            "description": "",
            "_model_name": "DropdownModel",
            "index": 2,
            "_view_module": "@jupyter-widgets/controls",
            "_model_module_version": "1.5.0",
            "_view_count": null,
            "disabled": false,
            "_view_module_version": "1.5.0",
            "description_tooltip": null,
            "_model_module": "@jupyter-widgets/controls",
            "layout": "IPY_MODEL_445c22b138a94737985a4661c7bdde42"
          }
        },
        "f35f39a3ddd24e65ba0f800478662c02": {
          "model_module": "@jupyter-widgets/controls",
          "model_name": "ButtonModel",
          "state": {
            "_view_name": "ButtonView",
            "style": "IPY_MODEL_4e4caace98c447458215c2b3bd38b304",
            "_dom_classes": [],
            "description": "Delete",
            "_model_name": "ButtonModel",
            "button_style": "",
            "_view_module": "@jupyter-widgets/controls",
            "_model_module_version": "1.5.0",
            "tooltip": "",
            "_view_count": null,
            "disabled": false,
            "_view_module_version": "1.5.0",
            "layout": "IPY_MODEL_be05e40e708342788114319b6e52a083",
            "_model_module": "@jupyter-widgets/controls",
            "icon": ""
          }
        },
        "0e0510a9155b4648a541815e07aca8b2": {
          "model_module": "@jupyter-widgets/controls",
          "model_name": "ImageModel",
          "state": {
            "_view_name": "ImageView",
            "_dom_classes": [],
            "_model_name": "ImageModel",
            "format": "jpg",
            "_view_module": "@jupyter-widgets/controls",
            "_model_module_version": "1.5.0",
            "_view_count": null,
            "width": "",
            "_view_module_version": "1.5.0",
            "layout": "IPY_MODEL_70546fcb989144058f5dffb3401a0bc9",
            "height": "",
            "_model_module": "@jupyter-widgets/controls"
          }
        },
        "981bb5069d74480f987ddbd09f0aae51": {
          "model_module": "@jupyter-widgets/controls",
          "model_name": "DropdownModel",
          "state": {
            "_options_labels": [
              "peach",
              "pear",
              "strawberry",
              "watermelon"
            ],
            "_view_name": "DropdownView",
            "style": "IPY_MODEL_cf94cb1e21974edc95067f3dd12bde0c",
            "_dom_classes": [],
            "description": "",
            "_model_name": "DropdownModel",
            "index": 2,
            "_view_module": "@jupyter-widgets/controls",
            "_model_module_version": "1.5.0",
            "_view_count": null,
            "disabled": false,
            "_view_module_version": "1.5.0",
            "description_tooltip": null,
            "_model_module": "@jupyter-widgets/controls",
            "layout": "IPY_MODEL_445c22b138a94737985a4661c7bdde42"
          }
        },
        "b0ee3a85332643d9bd03ba6750fa2ba3": {
          "model_module": "@jupyter-widgets/controls",
          "model_name": "ButtonModel",
          "state": {
            "_view_name": "ButtonView",
            "style": "IPY_MODEL_10f85e77906645e288ea681121441b62",
            "_dom_classes": [],
            "description": "Delete",
            "_model_name": "ButtonModel",
            "button_style": "",
            "_view_module": "@jupyter-widgets/controls",
            "_model_module_version": "1.5.0",
            "tooltip": "",
            "_view_count": null,
            "disabled": false,
            "_view_module_version": "1.5.0",
            "layout": "IPY_MODEL_be05e40e708342788114319b6e52a083",
            "_model_module": "@jupyter-widgets/controls",
            "icon": ""
          }
        },
        "04ddc1a8e2b543cc9d8186a38b3b5d62": {
          "model_module": "@jupyter-widgets/controls",
          "model_name": "DescriptionStyleModel",
          "state": {
            "_view_name": "StyleView",
            "_model_name": "DescriptionStyleModel",
            "description_width": "",
            "_view_module": "@jupyter-widgets/base",
            "_model_module_version": "1.5.0",
            "_view_count": null,
            "_view_module_version": "1.2.0",
            "_model_module": "@jupyter-widgets/controls"
          }
        },
        "bb90edadc72c46418be92809dcec146b": {
          "model_module": "@jupyter-widgets/controls",
          "model_name": "ButtonStyleModel",
          "state": {
            "_view_name": "StyleView",
            "_model_name": "ButtonStyleModel",
            "_view_module": "@jupyter-widgets/base",
            "_model_module_version": "1.5.0",
            "_view_count": null,
            "button_color": null,
            "font_weight": "",
            "_view_module_version": "1.2.0",
            "_model_module": "@jupyter-widgets/controls"
          }
        },
        "d69dc45015894a52b88fc97812160e64": {
          "model_module": "@jupyter-widgets/controls",
          "model_name": "DescriptionStyleModel",
          "state": {
            "_view_name": "StyleView",
            "_model_name": "DescriptionStyleModel",
            "description_width": "",
            "_view_module": "@jupyter-widgets/base",
            "_model_module_version": "1.5.0",
            "_view_count": null,
            "_view_module_version": "1.2.0",
            "_model_module": "@jupyter-widgets/controls"
          }
        },
        "eb0f1a4800844efaa516abf5b7fc10a9": {
          "model_module": "@jupyter-widgets/controls",
          "model_name": "ButtonStyleModel",
          "state": {
            "_view_name": "StyleView",
            "_model_name": "ButtonStyleModel",
            "_view_module": "@jupyter-widgets/base",
            "_model_module_version": "1.5.0",
            "_view_count": null,
            "button_color": null,
            "font_weight": "",
            "_view_module_version": "1.2.0",
            "_model_module": "@jupyter-widgets/controls"
          }
        },
        "cb29d98374c946a6840d9c6dd98c6a33": {
          "model_module": "@jupyter-widgets/controls",
          "model_name": "DescriptionStyleModel",
          "state": {
            "_view_name": "StyleView",
            "_model_name": "DescriptionStyleModel",
            "description_width": "",
            "_view_module": "@jupyter-widgets/base",
            "_model_module_version": "1.5.0",
            "_view_count": null,
            "_view_module_version": "1.2.0",
            "_model_module": "@jupyter-widgets/controls"
          }
        },
        "97c501faade442349b110f6da4e0a78a": {
          "model_module": "@jupyter-widgets/controls",
          "model_name": "ButtonStyleModel",
          "state": {
            "_view_name": "StyleView",
            "_model_name": "ButtonStyleModel",
            "_view_module": "@jupyter-widgets/base",
            "_model_module_version": "1.5.0",
            "_view_count": null,
            "button_color": null,
            "font_weight": "",
            "_view_module_version": "1.2.0",
            "_model_module": "@jupyter-widgets/controls"
          }
        },
        "e53b5a45d5a749f49c277ae18b918de7": {
          "model_module": "@jupyter-widgets/controls",
          "model_name": "DescriptionStyleModel",
          "state": {
            "_view_name": "StyleView",
            "_model_name": "DescriptionStyleModel",
            "description_width": "",
            "_view_module": "@jupyter-widgets/base",
            "_model_module_version": "1.5.0",
            "_view_count": null,
            "_view_module_version": "1.2.0",
            "_model_module": "@jupyter-widgets/controls"
          }
        },
        "4e4caace98c447458215c2b3bd38b304": {
          "model_module": "@jupyter-widgets/controls",
          "model_name": "ButtonStyleModel",
          "state": {
            "_view_name": "StyleView",
            "_model_name": "ButtonStyleModel",
            "_view_module": "@jupyter-widgets/base",
            "_model_module_version": "1.5.0",
            "_view_count": null,
            "button_color": null,
            "font_weight": "",
            "_view_module_version": "1.2.0",
            "_model_module": "@jupyter-widgets/controls"
          }
        },
        "cf94cb1e21974edc95067f3dd12bde0c": {
          "model_module": "@jupyter-widgets/controls",
          "model_name": "DescriptionStyleModel",
          "state": {
            "_view_name": "StyleView",
            "_model_name": "DescriptionStyleModel",
            "description_width": "",
            "_view_module": "@jupyter-widgets/base",
            "_model_module_version": "1.5.0",
            "_view_count": null,
            "_view_module_version": "1.2.0",
            "_model_module": "@jupyter-widgets/controls"
          }
        },
        "10f85e77906645e288ea681121441b62": {
          "model_module": "@jupyter-widgets/controls",
          "model_name": "ButtonStyleModel",
          "state": {
            "_view_name": "StyleView",
            "_model_name": "ButtonStyleModel",
            "_view_module": "@jupyter-widgets/base",
            "_model_module_version": "1.5.0",
            "_view_count": null,
            "button_color": null,
            "font_weight": "",
            "_view_module_version": "1.2.0",
            "_model_module": "@jupyter-widgets/controls"
          }
        },
        "a0a36756786641eab8aeae80746f648a": {
          "model_module": "@jupyter-widgets/controls",
          "model_name": "ButtonModel",
          "state": {
            "_view_name": "ButtonView",
            "style": "IPY_MODEL_1fd30463cd534263a770a774e27ed3e8",
            "_dom_classes": [],
            "description": "Next Batch",
            "_model_name": "ButtonModel",
            "button_style": "primary",
            "_view_module": "@jupyter-widgets/controls",
            "_model_module_version": "1.5.0",
            "tooltip": "",
            "_view_count": null,
            "disabled": false,
            "_view_module_version": "1.5.0",
            "layout": "IPY_MODEL_be05e40e708342788114319b6e52a083",
            "_model_module": "@jupyter-widgets/controls",
            "icon": ""
          }
        },
        "1fd30463cd534263a770a774e27ed3e8": {
          "model_module": "@jupyter-widgets/controls",
          "model_name": "ButtonStyleModel",
          "state": {
            "_view_name": "StyleView",
            "_model_name": "ButtonStyleModel",
            "_view_module": "@jupyter-widgets/base",
            "_model_module_version": "1.5.0",
            "_view_count": null,
            "button_color": null,
            "font_weight": "",
            "_view_module_version": "1.2.0",
            "_model_module": "@jupyter-widgets/controls"
          }
        },
        "cfb23170a7fb45708b9e1ffca1a855f7": {
          "model_module": "@jupyter-widgets/controls",
          "model_name": "HBoxModel",
          "state": {
            "_view_name": "HBoxView",
            "_dom_classes": [],
            "_model_name": "HBoxModel",
            "_view_module": "@jupyter-widgets/controls",
            "_model_module_version": "1.5.0",
            "_view_count": null,
            "_view_module_version": "1.5.0",
            "box_style": "",
            "layout": "IPY_MODEL_d7a6b36fc54a4e65ae5e77825acb8f2e",
            "_model_module": "@jupyter-widgets/controls",
            "children": [
              "IPY_MODEL_ee27c180f7f840318fd3588dd7d293e1",
              "IPY_MODEL_42b10d3009234e2bb87cfd9a9a1891df",
              "IPY_MODEL_db2a35a30a0b4d05a1d5d932b9be07d5",
              "IPY_MODEL_98374ec52a9e43f297a6fddb95c7f1e2",
              "IPY_MODEL_ebe339cce5444e3ba46dc956ccd1f0c2"
            ]
          }
        },
        "ee27c180f7f840318fd3588dd7d293e1": {
          "model_module": "@jupyter-widgets/controls",
          "model_name": "VBoxModel",
          "state": {
            "_view_name": "VBoxView",
            "_dom_classes": [],
            "_model_name": "VBoxModel",
            "_view_module": "@jupyter-widgets/controls",
            "_model_module_version": "1.5.0",
            "_view_count": null,
            "_view_module_version": "1.5.0",
            "box_style": "",
            "layout": "IPY_MODEL_c123e5147339440b9a2e1c7322682a23",
            "_model_module": "@jupyter-widgets/controls",
            "children": [
              "IPY_MODEL_60c73ea5b14c4a0cba1c5672fc140b28",
              "IPY_MODEL_a532e3313fcd4ef9b08768e9236aa2ff",
              "IPY_MODEL_c7dbaf73cd30401295c689680bb61239"
            ]
          }
        },
        "42b10d3009234e2bb87cfd9a9a1891df": {
          "model_module": "@jupyter-widgets/controls",
          "model_name": "VBoxModel",
          "state": {
            "_view_name": "VBoxView",
            "_dom_classes": [],
            "_model_name": "VBoxModel",
            "_view_module": "@jupyter-widgets/controls",
            "_model_module_version": "1.5.0",
            "_view_count": null,
            "_view_module_version": "1.5.0",
            "box_style": "",
            "layout": "IPY_MODEL_c123e5147339440b9a2e1c7322682a23",
            "_model_module": "@jupyter-widgets/controls",
            "children": [
              "IPY_MODEL_87f5cb6612ed425c8f70eb7e33a88f76",
              "IPY_MODEL_c9f2202876ae4eb492b7974fdbb0e00c",
              "IPY_MODEL_b96b705c713643889be2dce799ac3de7"
            ]
          }
        },
        "db2a35a30a0b4d05a1d5d932b9be07d5": {
          "model_module": "@jupyter-widgets/controls",
          "model_name": "VBoxModel",
          "state": {
            "_view_name": "VBoxView",
            "_dom_classes": [],
            "_model_name": "VBoxModel",
            "_view_module": "@jupyter-widgets/controls",
            "_model_module_version": "1.5.0",
            "_view_count": null,
            "_view_module_version": "1.5.0",
            "box_style": "",
            "layout": "IPY_MODEL_c123e5147339440b9a2e1c7322682a23",
            "_model_module": "@jupyter-widgets/controls",
            "children": [
              "IPY_MODEL_a5d38be74cd84ab897595fb5433d39bc",
              "IPY_MODEL_28960a2590a34764a93656569078c4e4",
              "IPY_MODEL_fb63aeaf87474c04ac92c5b9c9342f59"
            ]
          }
        },
        "98374ec52a9e43f297a6fddb95c7f1e2": {
          "model_module": "@jupyter-widgets/controls",
          "model_name": "VBoxModel",
          "state": {
            "_view_name": "VBoxView",
            "_dom_classes": [],
            "_model_name": "VBoxModel",
            "_view_module": "@jupyter-widgets/controls",
            "_model_module_version": "1.5.0",
            "_view_count": null,
            "_view_module_version": "1.5.0",
            "box_style": "",
            "layout": "IPY_MODEL_c123e5147339440b9a2e1c7322682a23",
            "_model_module": "@jupyter-widgets/controls",
            "children": [
              "IPY_MODEL_227c39b80df547fca8e51003afd73305",
              "IPY_MODEL_06b4fa5b28804d599cf1bdf5c4e2f80a",
              "IPY_MODEL_90f23398ff7c4bfd90b98eb4cc502b01"
            ]
          }
        },
        "ebe339cce5444e3ba46dc956ccd1f0c2": {
          "model_module": "@jupyter-widgets/controls",
          "model_name": "VBoxModel",
          "state": {
            "_view_name": "VBoxView",
            "_dom_classes": [],
            "_model_name": "VBoxModel",
            "_view_module": "@jupyter-widgets/controls",
            "_model_module_version": "1.5.0",
            "_view_count": null,
            "_view_module_version": "1.5.0",
            "box_style": "",
            "layout": "IPY_MODEL_c123e5147339440b9a2e1c7322682a23",
            "_model_module": "@jupyter-widgets/controls",
            "children": [
              "IPY_MODEL_1cf296dca42a409f8ee36ae053a8839c",
              "IPY_MODEL_e4966d6d7801410ca517b87dfe489626",
              "IPY_MODEL_e4d3bca42b27427d9bb4f6820c0085cd"
            ]
          }
        },
        "60c73ea5b14c4a0cba1c5672fc140b28": {
          "model_module": "@jupyter-widgets/controls",
          "model_name": "ImageModel",
          "state": {
            "_view_name": "ImageView",
            "_dom_classes": [],
            "_model_name": "ImageModel",
            "format": "jpg",
            "_view_module": "@jupyter-widgets/controls",
            "_model_module_version": "1.5.0",
            "_view_count": null,
            "width": "",
            "_view_module_version": "1.5.0",
            "layout": "IPY_MODEL_70546fcb989144058f5dffb3401a0bc9",
            "height": "",
            "_model_module": "@jupyter-widgets/controls"
          }
        },
        "a532e3313fcd4ef9b08768e9236aa2ff": {
          "model_module": "@jupyter-widgets/controls",
          "model_name": "DropdownModel",
          "state": {
            "_options_labels": [
              "peach",
              "pear",
              "strawberry",
              "watermelon"
            ],
            "_view_name": "DropdownView",
            "style": "IPY_MODEL_98e1756e3b0b4536a8cd8d6380281b6f",
            "_dom_classes": [],
            "description": "",
            "_model_name": "DropdownModel",
            "index": 2,
            "_view_module": "@jupyter-widgets/controls",
            "_model_module_version": "1.5.0",
            "_view_count": null,
            "disabled": false,
            "_view_module_version": "1.5.0",
            "description_tooltip": null,
            "_model_module": "@jupyter-widgets/controls",
            "layout": "IPY_MODEL_445c22b138a94737985a4661c7bdde42"
          }
        },
        "c7dbaf73cd30401295c689680bb61239": {
          "model_module": "@jupyter-widgets/controls",
          "model_name": "ButtonModel",
          "state": {
            "_view_name": "ButtonView",
            "style": "IPY_MODEL_9079fb49275b401dbea5cf7c56382c7a",
            "_dom_classes": [],
            "description": "Delete",
            "_model_name": "ButtonModel",
            "button_style": "danger",
            "_view_module": "@jupyter-widgets/controls",
            "_model_module_version": "1.5.0",
            "tooltip": "",
            "_view_count": null,
            "disabled": false,
            "_view_module_version": "1.5.0",
            "layout": "IPY_MODEL_be05e40e708342788114319b6e52a083",
            "_model_module": "@jupyter-widgets/controls",
            "icon": ""
          }
        },
        "87f5cb6612ed425c8f70eb7e33a88f76": {
          "model_module": "@jupyter-widgets/controls",
          "model_name": "ImageModel",
          "state": {
            "_view_name": "ImageView",
            "_dom_classes": [],
            "_model_name": "ImageModel",
            "format": "jpg",
            "_view_module": "@jupyter-widgets/controls",
            "_model_module_version": "1.5.0",
            "_view_count": null,
            "width": "",
            "_view_module_version": "1.5.0",
            "layout": "IPY_MODEL_70546fcb989144058f5dffb3401a0bc9",
            "height": "",
            "_model_module": "@jupyter-widgets/controls"
          }
        },
        "c9f2202876ae4eb492b7974fdbb0e00c": {
          "model_module": "@jupyter-widgets/controls",
          "model_name": "DropdownModel",
          "state": {
            "_options_labels": [
              "peach",
              "pear",
              "strawberry",
              "watermelon"
            ],
            "_view_name": "DropdownView",
            "style": "IPY_MODEL_ca966dfb81f7419397eab313ab3d27fa",
            "_dom_classes": [],
            "description": "",
            "_model_name": "DropdownModel",
            "index": 2,
            "_view_module": "@jupyter-widgets/controls",
            "_model_module_version": "1.5.0",
            "_view_count": null,
            "disabled": false,
            "_view_module_version": "1.5.0",
            "description_tooltip": null,
            "_model_module": "@jupyter-widgets/controls",
            "layout": "IPY_MODEL_445c22b138a94737985a4661c7bdde42"
          }
        },
        "b96b705c713643889be2dce799ac3de7": {
          "model_module": "@jupyter-widgets/controls",
          "model_name": "ButtonModel",
          "state": {
            "_view_name": "ButtonView",
            "style": "IPY_MODEL_1889e306318f464e9e4392a7680b3b12",
            "_dom_classes": [],
            "description": "Delete",
            "_model_name": "ButtonModel",
            "button_style": "",
            "_view_module": "@jupyter-widgets/controls",
            "_model_module_version": "1.5.0",
            "tooltip": "",
            "_view_count": null,
            "disabled": false,
            "_view_module_version": "1.5.0",
            "layout": "IPY_MODEL_be05e40e708342788114319b6e52a083",
            "_model_module": "@jupyter-widgets/controls",
            "icon": ""
          }
        },
        "a5d38be74cd84ab897595fb5433d39bc": {
          "model_module": "@jupyter-widgets/controls",
          "model_name": "ImageModel",
          "state": {
            "_view_name": "ImageView",
            "_dom_classes": [],
            "_model_name": "ImageModel",
            "format": "jpg",
            "_view_module": "@jupyter-widgets/controls",
            "_model_module_version": "1.5.0",
            "_view_count": null,
            "width": "",
            "_view_module_version": "1.5.0",
            "layout": "IPY_MODEL_70546fcb989144058f5dffb3401a0bc9",
            "height": "",
            "_model_module": "@jupyter-widgets/controls"
          }
        },
        "28960a2590a34764a93656569078c4e4": {
          "model_module": "@jupyter-widgets/controls",
          "model_name": "DropdownModel",
          "state": {
            "_options_labels": [
              "peach",
              "pear",
              "strawberry",
              "watermelon"
            ],
            "_view_name": "DropdownView",
            "style": "IPY_MODEL_609b5da3f04d46be8bcff59426416be2",
            "_dom_classes": [],
            "description": "",
            "_model_name": "DropdownModel",
            "index": 0,
            "_view_module": "@jupyter-widgets/controls",
            "_model_module_version": "1.5.0",
            "_view_count": null,
            "disabled": false,
            "_view_module_version": "1.5.0",
            "description_tooltip": null,
            "_model_module": "@jupyter-widgets/controls",
            "layout": "IPY_MODEL_445c22b138a94737985a4661c7bdde42"
          }
        },
        "fb63aeaf87474c04ac92c5b9c9342f59": {
          "model_module": "@jupyter-widgets/controls",
          "model_name": "ButtonModel",
          "state": {
            "_view_name": "ButtonView",
            "style": "IPY_MODEL_d3bb1942e24a467d9226188cc7d83676",
            "_dom_classes": [],
            "description": "Delete",
            "_model_name": "ButtonModel",
            "button_style": "danger",
            "_view_module": "@jupyter-widgets/controls",
            "_model_module_version": "1.5.0",
            "tooltip": "",
            "_view_count": null,
            "disabled": false,
            "_view_module_version": "1.5.0",
            "layout": "IPY_MODEL_be05e40e708342788114319b6e52a083",
            "_model_module": "@jupyter-widgets/controls",
            "icon": ""
          }
        },
        "227c39b80df547fca8e51003afd73305": {
          "model_module": "@jupyter-widgets/controls",
          "model_name": "ImageModel",
          "state": {
            "_view_name": "ImageView",
            "_dom_classes": [],
            "_model_name": "ImageModel",
            "format": "jpg",
            "_view_module": "@jupyter-widgets/controls",
            "_model_module_version": "1.5.0",
            "_view_count": null,
            "width": "",
            "_view_module_version": "1.5.0",
            "layout": "IPY_MODEL_70546fcb989144058f5dffb3401a0bc9",
            "height": "",
            "_model_module": "@jupyter-widgets/controls"
          }
        },
        "06b4fa5b28804d599cf1bdf5c4e2f80a": {
          "model_module": "@jupyter-widgets/controls",
          "model_name": "DropdownModel",
          "state": {
            "_options_labels": [
              "peach",
              "pear",
              "strawberry",
              "watermelon"
            ],
            "_view_name": "DropdownView",
            "style": "IPY_MODEL_f21e986f30744498ab953537e3dc92e2",
            "_dom_classes": [],
            "description": "",
            "_model_name": "DropdownModel",
            "index": 2,
            "_view_module": "@jupyter-widgets/controls",
            "_model_module_version": "1.5.0",
            "_view_count": null,
            "disabled": false,
            "_view_module_version": "1.5.0",
            "description_tooltip": null,
            "_model_module": "@jupyter-widgets/controls",
            "layout": "IPY_MODEL_445c22b138a94737985a4661c7bdde42"
          }
        },
        "90f23398ff7c4bfd90b98eb4cc502b01": {
          "model_module": "@jupyter-widgets/controls",
          "model_name": "ButtonModel",
          "state": {
            "_view_name": "ButtonView",
            "style": "IPY_MODEL_be1c98c3ba32465ebbb90db2d9f0a465",
            "_dom_classes": [],
            "description": "Delete",
            "_model_name": "ButtonModel",
            "button_style": "",
            "_view_module": "@jupyter-widgets/controls",
            "_model_module_version": "1.5.0",
            "tooltip": "",
            "_view_count": null,
            "disabled": false,
            "_view_module_version": "1.5.0",
            "layout": "IPY_MODEL_be05e40e708342788114319b6e52a083",
            "_model_module": "@jupyter-widgets/controls",
            "icon": ""
          }
        },
        "1cf296dca42a409f8ee36ae053a8839c": {
          "model_module": "@jupyter-widgets/controls",
          "model_name": "ImageModel",
          "state": {
            "_view_name": "ImageView",
            "_dom_classes": [],
            "_model_name": "ImageModel",
            "format": "jpg",
            "_view_module": "@jupyter-widgets/controls",
            "_model_module_version": "1.5.0",
            "_view_count": null,
            "width": "",
            "_view_module_version": "1.5.0",
            "layout": "IPY_MODEL_70546fcb989144058f5dffb3401a0bc9",
            "height": "",
            "_model_module": "@jupyter-widgets/controls"
          }
        },
        "e4966d6d7801410ca517b87dfe489626": {
          "model_module": "@jupyter-widgets/controls",
          "model_name": "DropdownModel",
          "state": {
            "_options_labels": [
              "peach",
              "pear",
              "strawberry",
              "watermelon"
            ],
            "_view_name": "DropdownView",
            "style": "IPY_MODEL_5b9ca29597094601af9b0dfd427dd12b",
            "_dom_classes": [],
            "description": "",
            "_model_name": "DropdownModel",
            "index": 3,
            "_view_module": "@jupyter-widgets/controls",
            "_model_module_version": "1.5.0",
            "_view_count": null,
            "disabled": false,
            "_view_module_version": "1.5.0",
            "description_tooltip": null,
            "_model_module": "@jupyter-widgets/controls",
            "layout": "IPY_MODEL_445c22b138a94737985a4661c7bdde42"
          }
        },
        "e4d3bca42b27427d9bb4f6820c0085cd": {
          "model_module": "@jupyter-widgets/controls",
          "model_name": "ButtonModel",
          "state": {
            "_view_name": "ButtonView",
            "style": "IPY_MODEL_ee6a17d61ff640d080044bbc73198411",
            "_dom_classes": [],
            "description": "Delete",
            "_model_name": "ButtonModel",
            "button_style": "",
            "_view_module": "@jupyter-widgets/controls",
            "_model_module_version": "1.5.0",
            "tooltip": "",
            "_view_count": null,
            "disabled": false,
            "_view_module_version": "1.5.0",
            "layout": "IPY_MODEL_be05e40e708342788114319b6e52a083",
            "_model_module": "@jupyter-widgets/controls",
            "icon": ""
          }
        },
        "98e1756e3b0b4536a8cd8d6380281b6f": {
          "model_module": "@jupyter-widgets/controls",
          "model_name": "DescriptionStyleModel",
          "state": {
            "_view_name": "StyleView",
            "_model_name": "DescriptionStyleModel",
            "description_width": "",
            "_view_module": "@jupyter-widgets/base",
            "_model_module_version": "1.5.0",
            "_view_count": null,
            "_view_module_version": "1.2.0",
            "_model_module": "@jupyter-widgets/controls"
          }
        },
        "9079fb49275b401dbea5cf7c56382c7a": {
          "model_module": "@jupyter-widgets/controls",
          "model_name": "ButtonStyleModel",
          "state": {
            "_view_name": "StyleView",
            "_model_name": "ButtonStyleModel",
            "_view_module": "@jupyter-widgets/base",
            "_model_module_version": "1.5.0",
            "_view_count": null,
            "button_color": null,
            "font_weight": "",
            "_view_module_version": "1.2.0",
            "_model_module": "@jupyter-widgets/controls"
          }
        },
        "ca966dfb81f7419397eab313ab3d27fa": {
          "model_module": "@jupyter-widgets/controls",
          "model_name": "DescriptionStyleModel",
          "state": {
            "_view_name": "StyleView",
            "_model_name": "DescriptionStyleModel",
            "description_width": "",
            "_view_module": "@jupyter-widgets/base",
            "_model_module_version": "1.5.0",
            "_view_count": null,
            "_view_module_version": "1.2.0",
            "_model_module": "@jupyter-widgets/controls"
          }
        },
        "1889e306318f464e9e4392a7680b3b12": {
          "model_module": "@jupyter-widgets/controls",
          "model_name": "ButtonStyleModel",
          "state": {
            "_view_name": "StyleView",
            "_model_name": "ButtonStyleModel",
            "_view_module": "@jupyter-widgets/base",
            "_model_module_version": "1.5.0",
            "_view_count": null,
            "button_color": null,
            "font_weight": "",
            "_view_module_version": "1.2.0",
            "_model_module": "@jupyter-widgets/controls"
          }
        },
        "609b5da3f04d46be8bcff59426416be2": {
          "model_module": "@jupyter-widgets/controls",
          "model_name": "DescriptionStyleModel",
          "state": {
            "_view_name": "StyleView",
            "_model_name": "DescriptionStyleModel",
            "description_width": "",
            "_view_module": "@jupyter-widgets/base",
            "_model_module_version": "1.5.0",
            "_view_count": null,
            "_view_module_version": "1.2.0",
            "_model_module": "@jupyter-widgets/controls"
          }
        },
        "d3bb1942e24a467d9226188cc7d83676": {
          "model_module": "@jupyter-widgets/controls",
          "model_name": "ButtonStyleModel",
          "state": {
            "_view_name": "StyleView",
            "_model_name": "ButtonStyleModel",
            "_view_module": "@jupyter-widgets/base",
            "_model_module_version": "1.5.0",
            "_view_count": null,
            "button_color": null,
            "font_weight": "",
            "_view_module_version": "1.2.0",
            "_model_module": "@jupyter-widgets/controls"
          }
        },
        "f21e986f30744498ab953537e3dc92e2": {
          "model_module": "@jupyter-widgets/controls",
          "model_name": "DescriptionStyleModel",
          "state": {
            "_view_name": "StyleView",
            "_model_name": "DescriptionStyleModel",
            "description_width": "",
            "_view_module": "@jupyter-widgets/base",
            "_model_module_version": "1.5.0",
            "_view_count": null,
            "_view_module_version": "1.2.0",
            "_model_module": "@jupyter-widgets/controls"
          }
        },
        "be1c98c3ba32465ebbb90db2d9f0a465": {
          "model_module": "@jupyter-widgets/controls",
          "model_name": "ButtonStyleModel",
          "state": {
            "_view_name": "StyleView",
            "_model_name": "ButtonStyleModel",
            "_view_module": "@jupyter-widgets/base",
            "_model_module_version": "1.5.0",
            "_view_count": null,
            "button_color": null,
            "font_weight": "",
            "_view_module_version": "1.2.0",
            "_model_module": "@jupyter-widgets/controls"
          }
        },
        "5b9ca29597094601af9b0dfd427dd12b": {
          "model_module": "@jupyter-widgets/controls",
          "model_name": "DescriptionStyleModel",
          "state": {
            "_view_name": "StyleView",
            "_model_name": "DescriptionStyleModel",
            "description_width": "",
            "_view_module": "@jupyter-widgets/base",
            "_model_module_version": "1.5.0",
            "_view_count": null,
            "_view_module_version": "1.2.0",
            "_model_module": "@jupyter-widgets/controls"
          }
        },
        "ee6a17d61ff640d080044bbc73198411": {
          "model_module": "@jupyter-widgets/controls",
          "model_name": "ButtonStyleModel",
          "state": {
            "_view_name": "StyleView",
            "_model_name": "ButtonStyleModel",
            "_view_module": "@jupyter-widgets/base",
            "_model_module_version": "1.5.0",
            "_view_count": null,
            "button_color": null,
            "font_weight": "",
            "_view_module_version": "1.2.0",
            "_model_module": "@jupyter-widgets/controls"
          }
        },
        "3e3f5158262f433e9ba1c33e70a5a6bf": {
          "model_module": "@jupyter-widgets/controls",
          "model_name": "ButtonModel",
          "state": {
            "_view_name": "ButtonView",
            "style": "IPY_MODEL_51af1de4938f4bce84e7cc7ca955baca",
            "_dom_classes": [],
            "description": "Next Batch",
            "_model_name": "ButtonModel",
            "button_style": "primary",
            "_view_module": "@jupyter-widgets/controls",
            "_model_module_version": "1.5.0",
            "tooltip": "",
            "_view_count": null,
            "disabled": false,
            "_view_module_version": "1.5.0",
            "layout": "IPY_MODEL_be05e40e708342788114319b6e52a083",
            "_model_module": "@jupyter-widgets/controls",
            "icon": ""
          }
        },
        "51af1de4938f4bce84e7cc7ca955baca": {
          "model_module": "@jupyter-widgets/controls",
          "model_name": "ButtonStyleModel",
          "state": {
            "_view_name": "StyleView",
            "_model_name": "ButtonStyleModel",
            "_view_module": "@jupyter-widgets/base",
            "_model_module_version": "1.5.0",
            "_view_count": null,
            "button_color": null,
            "font_weight": "",
            "_view_module_version": "1.2.0",
            "_model_module": "@jupyter-widgets/controls"
          }
        },
        "1e8260af9af145bfa17810227a636aa2": {
          "model_module": "@jupyter-widgets/controls",
          "model_name": "HBoxModel",
          "state": {
            "_view_name": "HBoxView",
            "_dom_classes": [],
            "_model_name": "HBoxModel",
            "_view_module": "@jupyter-widgets/controls",
            "_model_module_version": "1.5.0",
            "_view_count": null,
            "_view_module_version": "1.5.0",
            "box_style": "",
            "layout": "IPY_MODEL_d7a6b36fc54a4e65ae5e77825acb8f2e",
            "_model_module": "@jupyter-widgets/controls",
            "children": [
              "IPY_MODEL_61b9c43aaefd41fb98ce421cba70d642",
              "IPY_MODEL_a6430788397641199efbbd219eb79a2f",
              "IPY_MODEL_cf93dabc894c47f984a029e5baf7ae77",
              "IPY_MODEL_7c9e180fe3544a0e8c476ad83ffbe540",
              "IPY_MODEL_45cd95cf9e4e4501909a00a0fed15d5e"
            ]
          }
        },
        "61b9c43aaefd41fb98ce421cba70d642": {
          "model_module": "@jupyter-widgets/controls",
          "model_name": "VBoxModel",
          "state": {
            "_view_name": "VBoxView",
            "_dom_classes": [],
            "_model_name": "VBoxModel",
            "_view_module": "@jupyter-widgets/controls",
            "_model_module_version": "1.5.0",
            "_view_count": null,
            "_view_module_version": "1.5.0",
            "box_style": "",
            "layout": "IPY_MODEL_c123e5147339440b9a2e1c7322682a23",
            "_model_module": "@jupyter-widgets/controls",
            "children": [
              "IPY_MODEL_e7274d943e09439abb2dd6f939f2c7ee",
              "IPY_MODEL_b645b0eba02542268724ad8bb38beeed",
              "IPY_MODEL_706d942ed2524aefa68453b47f11e015"
            ]
          }
        },
        "a6430788397641199efbbd219eb79a2f": {
          "model_module": "@jupyter-widgets/controls",
          "model_name": "VBoxModel",
          "state": {
            "_view_name": "VBoxView",
            "_dom_classes": [],
            "_model_name": "VBoxModel",
            "_view_module": "@jupyter-widgets/controls",
            "_model_module_version": "1.5.0",
            "_view_count": null,
            "_view_module_version": "1.5.0",
            "box_style": "",
            "layout": "IPY_MODEL_c123e5147339440b9a2e1c7322682a23",
            "_model_module": "@jupyter-widgets/controls",
            "children": [
              "IPY_MODEL_0bbf7d1936384ce79de514a2ef33bed0",
              "IPY_MODEL_bbf3e8d2936d45628fb67256bf7371c4",
              "IPY_MODEL_00107eb6fd6c4363848af0edd7728037"
            ]
          }
        },
        "cf93dabc894c47f984a029e5baf7ae77": {
          "model_module": "@jupyter-widgets/controls",
          "model_name": "VBoxModel",
          "state": {
            "_view_name": "VBoxView",
            "_dom_classes": [],
            "_model_name": "VBoxModel",
            "_view_module": "@jupyter-widgets/controls",
            "_model_module_version": "1.5.0",
            "_view_count": null,
            "_view_module_version": "1.5.0",
            "box_style": "",
            "layout": "IPY_MODEL_c123e5147339440b9a2e1c7322682a23",
            "_model_module": "@jupyter-widgets/controls",
            "children": [
              "IPY_MODEL_fe1d277ea0a845c29a6f59d044b9313d",
              "IPY_MODEL_3bb8e4d065d54fd48871469444c7f319",
              "IPY_MODEL_1652dcaf183141d0b757df050074e94e"
            ]
          }
        },
        "7c9e180fe3544a0e8c476ad83ffbe540": {
          "model_module": "@jupyter-widgets/controls",
          "model_name": "VBoxModel",
          "state": {
            "_view_name": "VBoxView",
            "_dom_classes": [],
            "_model_name": "VBoxModel",
            "_view_module": "@jupyter-widgets/controls",
            "_model_module_version": "1.5.0",
            "_view_count": null,
            "_view_module_version": "1.5.0",
            "box_style": "",
            "layout": "IPY_MODEL_c123e5147339440b9a2e1c7322682a23",
            "_model_module": "@jupyter-widgets/controls",
            "children": [
              "IPY_MODEL_3c2aedb5babc473eace6d1f3461490e8",
              "IPY_MODEL_0f98d95882084d988e8345103fe2a53e",
              "IPY_MODEL_8dfe4594f7554b7d8876bfbc18523160"
            ]
          }
        },
        "45cd95cf9e4e4501909a00a0fed15d5e": {
          "model_module": "@jupyter-widgets/controls",
          "model_name": "VBoxModel",
          "state": {
            "_view_name": "VBoxView",
            "_dom_classes": [],
            "_model_name": "VBoxModel",
            "_view_module": "@jupyter-widgets/controls",
            "_model_module_version": "1.5.0",
            "_view_count": null,
            "_view_module_version": "1.5.0",
            "box_style": "",
            "layout": "IPY_MODEL_c123e5147339440b9a2e1c7322682a23",
            "_model_module": "@jupyter-widgets/controls",
            "children": [
              "IPY_MODEL_3d8aee19e3844d6a914ff744fa770d96",
              "IPY_MODEL_390ad46d82d4475da43446f2edcbb50c",
              "IPY_MODEL_02771e6dbc7142439fce8d8bda8bf740"
            ]
          }
        },
        "e7274d943e09439abb2dd6f939f2c7ee": {
          "model_module": "@jupyter-widgets/controls",
          "model_name": "ImageModel",
          "state": {
            "_view_name": "ImageView",
            "_dom_classes": [],
            "_model_name": "ImageModel",
            "format": "jpg",
            "_view_module": "@jupyter-widgets/controls",
            "_model_module_version": "1.5.0",
            "_view_count": null,
            "width": "",
            "_view_module_version": "1.5.0",
            "layout": "IPY_MODEL_70546fcb989144058f5dffb3401a0bc9",
            "height": "",
            "_model_module": "@jupyter-widgets/controls"
          }
        },
        "b645b0eba02542268724ad8bb38beeed": {
          "model_module": "@jupyter-widgets/controls",
          "model_name": "DropdownModel",
          "state": {
            "_options_labels": [
              "peach",
              "pear",
              "strawberry",
              "watermelon"
            ],
            "_view_name": "DropdownView",
            "style": "IPY_MODEL_bf722e39c6e7439f8bc77930808aed77",
            "_dom_classes": [],
            "description": "",
            "_model_name": "DropdownModel",
            "index": 2,
            "_view_module": "@jupyter-widgets/controls",
            "_model_module_version": "1.5.0",
            "_view_count": null,
            "disabled": false,
            "_view_module_version": "1.5.0",
            "description_tooltip": null,
            "_model_module": "@jupyter-widgets/controls",
            "layout": "IPY_MODEL_445c22b138a94737985a4661c7bdde42"
          }
        },
        "706d942ed2524aefa68453b47f11e015": {
          "model_module": "@jupyter-widgets/controls",
          "model_name": "ButtonModel",
          "state": {
            "_view_name": "ButtonView",
            "style": "IPY_MODEL_891ae5069e084802a16abffe99818cf8",
            "_dom_classes": [],
            "description": "Delete",
            "_model_name": "ButtonModel",
            "button_style": "",
            "_view_module": "@jupyter-widgets/controls",
            "_model_module_version": "1.5.0",
            "tooltip": "",
            "_view_count": null,
            "disabled": false,
            "_view_module_version": "1.5.0",
            "layout": "IPY_MODEL_be05e40e708342788114319b6e52a083",
            "_model_module": "@jupyter-widgets/controls",
            "icon": ""
          }
        },
        "0bbf7d1936384ce79de514a2ef33bed0": {
          "model_module": "@jupyter-widgets/controls",
          "model_name": "ImageModel",
          "state": {
            "_view_name": "ImageView",
            "_dom_classes": [],
            "_model_name": "ImageModel",
            "format": "jpg",
            "_view_module": "@jupyter-widgets/controls",
            "_model_module_version": "1.5.0",
            "_view_count": null,
            "width": "",
            "_view_module_version": "1.5.0",
            "layout": "IPY_MODEL_70546fcb989144058f5dffb3401a0bc9",
            "height": "",
            "_model_module": "@jupyter-widgets/controls"
          }
        },
        "bbf3e8d2936d45628fb67256bf7371c4": {
          "model_module": "@jupyter-widgets/controls",
          "model_name": "DropdownModel",
          "state": {
            "_options_labels": [
              "peach",
              "pear",
              "strawberry",
              "watermelon"
            ],
            "_view_name": "DropdownView",
            "style": "IPY_MODEL_3671858623c54952bfe1233213834fb4",
            "_dom_classes": [],
            "description": "",
            "_model_name": "DropdownModel",
            "index": 1,
            "_view_module": "@jupyter-widgets/controls",
            "_model_module_version": "1.5.0",
            "_view_count": null,
            "disabled": false,
            "_view_module_version": "1.5.0",
            "description_tooltip": null,
            "_model_module": "@jupyter-widgets/controls",
            "layout": "IPY_MODEL_445c22b138a94737985a4661c7bdde42"
          }
        },
        "00107eb6fd6c4363848af0edd7728037": {
          "model_module": "@jupyter-widgets/controls",
          "model_name": "ButtonModel",
          "state": {
            "_view_name": "ButtonView",
            "style": "IPY_MODEL_771d4e113e5f489fa68e8e2bb3006cfd",
            "_dom_classes": [],
            "description": "Delete",
            "_model_name": "ButtonModel",
            "button_style": "",
            "_view_module": "@jupyter-widgets/controls",
            "_model_module_version": "1.5.0",
            "tooltip": "",
            "_view_count": null,
            "disabled": false,
            "_view_module_version": "1.5.0",
            "layout": "IPY_MODEL_be05e40e708342788114319b6e52a083",
            "_model_module": "@jupyter-widgets/controls",
            "icon": ""
          }
        },
        "fe1d277ea0a845c29a6f59d044b9313d": {
          "model_module": "@jupyter-widgets/controls",
          "model_name": "ImageModel",
          "state": {
            "_view_name": "ImageView",
            "_dom_classes": [],
            "_model_name": "ImageModel",
            "format": "jpg",
            "_view_module": "@jupyter-widgets/controls",
            "_model_module_version": "1.5.0",
            "_view_count": null,
            "width": "",
            "_view_module_version": "1.5.0",
            "layout": "IPY_MODEL_70546fcb989144058f5dffb3401a0bc9",
            "height": "",
            "_model_module": "@jupyter-widgets/controls"
          }
        },
        "3bb8e4d065d54fd48871469444c7f319": {
          "model_module": "@jupyter-widgets/controls",
          "model_name": "DropdownModel",
          "state": {
            "_options_labels": [
              "peach",
              "pear",
              "strawberry",
              "watermelon"
            ],
            "_view_name": "DropdownView",
            "style": "IPY_MODEL_44c1435d982d48bf83fb7eb0f6c97c58",
            "_dom_classes": [],
            "description": "",
            "_model_name": "DropdownModel",
            "index": 2,
            "_view_module": "@jupyter-widgets/controls",
            "_model_module_version": "1.5.0",
            "_view_count": null,
            "disabled": false,
            "_view_module_version": "1.5.0",
            "description_tooltip": null,
            "_model_module": "@jupyter-widgets/controls",
            "layout": "IPY_MODEL_445c22b138a94737985a4661c7bdde42"
          }
        },
        "1652dcaf183141d0b757df050074e94e": {
          "model_module": "@jupyter-widgets/controls",
          "model_name": "ButtonModel",
          "state": {
            "_view_name": "ButtonView",
            "style": "IPY_MODEL_552126f822ab49e3a184439eab8f1be1",
            "_dom_classes": [],
            "description": "Delete",
            "_model_name": "ButtonModel",
            "button_style": "",
            "_view_module": "@jupyter-widgets/controls",
            "_model_module_version": "1.5.0",
            "tooltip": "",
            "_view_count": null,
            "disabled": false,
            "_view_module_version": "1.5.0",
            "layout": "IPY_MODEL_be05e40e708342788114319b6e52a083",
            "_model_module": "@jupyter-widgets/controls",
            "icon": ""
          }
        },
        "3c2aedb5babc473eace6d1f3461490e8": {
          "model_module": "@jupyter-widgets/controls",
          "model_name": "ImageModel",
          "state": {
            "_view_name": "ImageView",
            "_dom_classes": [],
            "_model_name": "ImageModel",
            "format": "jpg",
            "_view_module": "@jupyter-widgets/controls",
            "_model_module_version": "1.5.0",
            "_view_count": null,
            "width": "",
            "_view_module_version": "1.5.0",
            "layout": "IPY_MODEL_70546fcb989144058f5dffb3401a0bc9",
            "height": "",
            "_model_module": "@jupyter-widgets/controls"
          }
        },
        "0f98d95882084d988e8345103fe2a53e": {
          "model_module": "@jupyter-widgets/controls",
          "model_name": "DropdownModel",
          "state": {
            "_options_labels": [
              "peach",
              "pear",
              "strawberry",
              "watermelon"
            ],
            "_view_name": "DropdownView",
            "style": "IPY_MODEL_a87e2eaa8e064ddc81a0b6500c7c4a57",
            "_dom_classes": [],
            "description": "",
            "_model_name": "DropdownModel",
            "index": 2,
            "_view_module": "@jupyter-widgets/controls",
            "_model_module_version": "1.5.0",
            "_view_count": null,
            "disabled": false,
            "_view_module_version": "1.5.0",
            "description_tooltip": null,
            "_model_module": "@jupyter-widgets/controls",
            "layout": "IPY_MODEL_445c22b138a94737985a4661c7bdde42"
          }
        },
        "8dfe4594f7554b7d8876bfbc18523160": {
          "model_module": "@jupyter-widgets/controls",
          "model_name": "ButtonModel",
          "state": {
            "_view_name": "ButtonView",
            "style": "IPY_MODEL_6229cd2f00d24eb0b8ebe9f4c808594b",
            "_dom_classes": [],
            "description": "Delete",
            "_model_name": "ButtonModel",
            "button_style": "",
            "_view_module": "@jupyter-widgets/controls",
            "_model_module_version": "1.5.0",
            "tooltip": "",
            "_view_count": null,
            "disabled": false,
            "_view_module_version": "1.5.0",
            "layout": "IPY_MODEL_be05e40e708342788114319b6e52a083",
            "_model_module": "@jupyter-widgets/controls",
            "icon": ""
          }
        },
        "3d8aee19e3844d6a914ff744fa770d96": {
          "model_module": "@jupyter-widgets/controls",
          "model_name": "ImageModel",
          "state": {
            "_view_name": "ImageView",
            "_dom_classes": [],
            "_model_name": "ImageModel",
            "format": "jpg",
            "_view_module": "@jupyter-widgets/controls",
            "_model_module_version": "1.5.0",
            "_view_count": null,
            "width": "",
            "_view_module_version": "1.5.0",
            "layout": "IPY_MODEL_70546fcb989144058f5dffb3401a0bc9",
            "height": "",
            "_model_module": "@jupyter-widgets/controls"
          }
        },
        "390ad46d82d4475da43446f2edcbb50c": {
          "model_module": "@jupyter-widgets/controls",
          "model_name": "DropdownModel",
          "state": {
            "_options_labels": [
              "peach",
              "pear",
              "strawberry",
              "watermelon"
            ],
            "_view_name": "DropdownView",
            "style": "IPY_MODEL_4282846e1d47446fb39b35610a3bffa8",
            "_dom_classes": [],
            "description": "",
            "_model_name": "DropdownModel",
            "index": 2,
            "_view_module": "@jupyter-widgets/controls",
            "_model_module_version": "1.5.0",
            "_view_count": null,
            "disabled": false,
            "_view_module_version": "1.5.0",
            "description_tooltip": null,
            "_model_module": "@jupyter-widgets/controls",
            "layout": "IPY_MODEL_445c22b138a94737985a4661c7bdde42"
          }
        },
        "02771e6dbc7142439fce8d8bda8bf740": {
          "model_module": "@jupyter-widgets/controls",
          "model_name": "ButtonModel",
          "state": {
            "_view_name": "ButtonView",
            "style": "IPY_MODEL_87364dd51e3c46a8b2d5d3d8d769658f",
            "_dom_classes": [],
            "description": "Delete",
            "_model_name": "ButtonModel",
            "button_style": "",
            "_view_module": "@jupyter-widgets/controls",
            "_model_module_version": "1.5.0",
            "tooltip": "",
            "_view_count": null,
            "disabled": false,
            "_view_module_version": "1.5.0",
            "layout": "IPY_MODEL_be05e40e708342788114319b6e52a083",
            "_model_module": "@jupyter-widgets/controls",
            "icon": ""
          }
        },
        "bf722e39c6e7439f8bc77930808aed77": {
          "model_module": "@jupyter-widgets/controls",
          "model_name": "DescriptionStyleModel",
          "state": {
            "_view_name": "StyleView",
            "_model_name": "DescriptionStyleModel",
            "description_width": "",
            "_view_module": "@jupyter-widgets/base",
            "_model_module_version": "1.5.0",
            "_view_count": null,
            "_view_module_version": "1.2.0",
            "_model_module": "@jupyter-widgets/controls"
          }
        },
        "891ae5069e084802a16abffe99818cf8": {
          "model_module": "@jupyter-widgets/controls",
          "model_name": "ButtonStyleModel",
          "state": {
            "_view_name": "StyleView",
            "_model_name": "ButtonStyleModel",
            "_view_module": "@jupyter-widgets/base",
            "_model_module_version": "1.5.0",
            "_view_count": null,
            "button_color": null,
            "font_weight": "",
            "_view_module_version": "1.2.0",
            "_model_module": "@jupyter-widgets/controls"
          }
        },
        "3671858623c54952bfe1233213834fb4": {
          "model_module": "@jupyter-widgets/controls",
          "model_name": "DescriptionStyleModel",
          "state": {
            "_view_name": "StyleView",
            "_model_name": "DescriptionStyleModel",
            "description_width": "",
            "_view_module": "@jupyter-widgets/base",
            "_model_module_version": "1.5.0",
            "_view_count": null,
            "_view_module_version": "1.2.0",
            "_model_module": "@jupyter-widgets/controls"
          }
        },
        "771d4e113e5f489fa68e8e2bb3006cfd": {
          "model_module": "@jupyter-widgets/controls",
          "model_name": "ButtonStyleModel",
          "state": {
            "_view_name": "StyleView",
            "_model_name": "ButtonStyleModel",
            "_view_module": "@jupyter-widgets/base",
            "_model_module_version": "1.5.0",
            "_view_count": null,
            "button_color": null,
            "font_weight": "",
            "_view_module_version": "1.2.0",
            "_model_module": "@jupyter-widgets/controls"
          }
        },
        "44c1435d982d48bf83fb7eb0f6c97c58": {
          "model_module": "@jupyter-widgets/controls",
          "model_name": "DescriptionStyleModel",
          "state": {
            "_view_name": "StyleView",
            "_model_name": "DescriptionStyleModel",
            "description_width": "",
            "_view_module": "@jupyter-widgets/base",
            "_model_module_version": "1.5.0",
            "_view_count": null,
            "_view_module_version": "1.2.0",
            "_model_module": "@jupyter-widgets/controls"
          }
        },
        "552126f822ab49e3a184439eab8f1be1": {
          "model_module": "@jupyter-widgets/controls",
          "model_name": "ButtonStyleModel",
          "state": {
            "_view_name": "StyleView",
            "_model_name": "ButtonStyleModel",
            "_view_module": "@jupyter-widgets/base",
            "_model_module_version": "1.5.0",
            "_view_count": null,
            "button_color": null,
            "font_weight": "",
            "_view_module_version": "1.2.0",
            "_model_module": "@jupyter-widgets/controls"
          }
        },
        "a87e2eaa8e064ddc81a0b6500c7c4a57": {
          "model_module": "@jupyter-widgets/controls",
          "model_name": "DescriptionStyleModel",
          "state": {
            "_view_name": "StyleView",
            "_model_name": "DescriptionStyleModel",
            "description_width": "",
            "_view_module": "@jupyter-widgets/base",
            "_model_module_version": "1.5.0",
            "_view_count": null,
            "_view_module_version": "1.2.0",
            "_model_module": "@jupyter-widgets/controls"
          }
        },
        "6229cd2f00d24eb0b8ebe9f4c808594b": {
          "model_module": "@jupyter-widgets/controls",
          "model_name": "ButtonStyleModel",
          "state": {
            "_view_name": "StyleView",
            "_model_name": "ButtonStyleModel",
            "_view_module": "@jupyter-widgets/base",
            "_model_module_version": "1.5.0",
            "_view_count": null,
            "button_color": null,
            "font_weight": "",
            "_view_module_version": "1.2.0",
            "_model_module": "@jupyter-widgets/controls"
          }
        },
        "4282846e1d47446fb39b35610a3bffa8": {
          "model_module": "@jupyter-widgets/controls",
          "model_name": "DescriptionStyleModel",
          "state": {
            "_view_name": "StyleView",
            "_model_name": "DescriptionStyleModel",
            "description_width": "",
            "_view_module": "@jupyter-widgets/base",
            "_model_module_version": "1.5.0",
            "_view_count": null,
            "_view_module_version": "1.2.0",
            "_model_module": "@jupyter-widgets/controls"
          }
        },
        "87364dd51e3c46a8b2d5d3d8d769658f": {
          "model_module": "@jupyter-widgets/controls",
          "model_name": "ButtonStyleModel",
          "state": {
            "_view_name": "StyleView",
            "_model_name": "ButtonStyleModel",
            "_view_module": "@jupyter-widgets/base",
            "_model_module_version": "1.5.0",
            "_view_count": null,
            "button_color": null,
            "font_weight": "",
            "_view_module_version": "1.2.0",
            "_model_module": "@jupyter-widgets/controls"
          }
        },
        "6856032128b6458b95bad07d617b5062": {
          "model_module": "@jupyter-widgets/controls",
          "model_name": "ButtonModel",
          "state": {
            "_view_name": "ButtonView",
            "style": "IPY_MODEL_ccb1c91d91db47d49305a2ca9e611343",
            "_dom_classes": [],
            "description": "Next Batch",
            "_model_name": "ButtonModel",
            "button_style": "primary",
            "_view_module": "@jupyter-widgets/controls",
            "_model_module_version": "1.5.0",
            "tooltip": "",
            "_view_count": null,
            "disabled": false,
            "_view_module_version": "1.5.0",
            "layout": "IPY_MODEL_be05e40e708342788114319b6e52a083",
            "_model_module": "@jupyter-widgets/controls",
            "icon": ""
          }
        },
        "ccb1c91d91db47d49305a2ca9e611343": {
          "model_module": "@jupyter-widgets/controls",
          "model_name": "ButtonStyleModel",
          "state": {
            "_view_name": "StyleView",
            "_model_name": "ButtonStyleModel",
            "_view_module": "@jupyter-widgets/base",
            "_model_module_version": "1.5.0",
            "_view_count": null,
            "button_color": null,
            "font_weight": "",
            "_view_module_version": "1.2.0",
            "_model_module": "@jupyter-widgets/controls"
          }
        },
        "fcf0f6db4dba4079861ded169436ef3f": {
          "model_module": "@jupyter-widgets/controls",
          "model_name": "HBoxModel",
          "state": {
            "_view_name": "HBoxView",
            "_dom_classes": [],
            "_model_name": "HBoxModel",
            "_view_module": "@jupyter-widgets/controls",
            "_model_module_version": "1.5.0",
            "_view_count": null,
            "_view_module_version": "1.5.0",
            "box_style": "",
            "layout": "IPY_MODEL_d7a6b36fc54a4e65ae5e77825acb8f2e",
            "_model_module": "@jupyter-widgets/controls",
            "children": [
              "IPY_MODEL_1ed3cb38616d46a89405372710e20d0b",
              "IPY_MODEL_642f3e9ea48d4bbeadcd6753eea3988f"
            ]
          }
        },
        "1ed3cb38616d46a89405372710e20d0b": {
          "model_module": "@jupyter-widgets/controls",
          "model_name": "VBoxModel",
          "state": {
            "_view_name": "VBoxView",
            "_dom_classes": [],
            "_model_name": "VBoxModel",
            "_view_module": "@jupyter-widgets/controls",
            "_model_module_version": "1.5.0",
            "_view_count": null,
            "_view_module_version": "1.5.0",
            "box_style": "",
            "layout": "IPY_MODEL_c123e5147339440b9a2e1c7322682a23",
            "_model_module": "@jupyter-widgets/controls",
            "children": [
              "IPY_MODEL_5f5d804e21a745ef8156c4e95c0da7ff",
              "IPY_MODEL_c052bc11d2334f38865d151b9c783cee"
            ]
          }
        },
        "642f3e9ea48d4bbeadcd6753eea3988f": {
          "model_module": "@jupyter-widgets/controls",
          "model_name": "VBoxModel",
          "state": {
            "_view_name": "VBoxView",
            "_dom_classes": [],
            "_model_name": "VBoxModel",
            "_view_module": "@jupyter-widgets/controls",
            "_model_module_version": "1.5.0",
            "_view_count": null,
            "_view_module_version": "1.5.0",
            "box_style": "",
            "layout": "IPY_MODEL_c123e5147339440b9a2e1c7322682a23",
            "_model_module": "@jupyter-widgets/controls",
            "children": [
              "IPY_MODEL_77ac1fac19524b4892f0a57f064ef1c4",
              "IPY_MODEL_424a7f799c0742efb7c6f0f3b7c1e25d"
            ]
          }
        },
        "5f5d804e21a745ef8156c4e95c0da7ff": {
          "model_module": "@jupyter-widgets/controls",
          "model_name": "ImageModel",
          "state": {
            "_view_name": "ImageView",
            "_dom_classes": [],
            "_model_name": "ImageModel",
            "format": "jpg",
            "_view_module": "@jupyter-widgets/controls",
            "_model_module_version": "1.5.0",
            "_view_count": null,
            "width": "",
            "_view_module_version": "1.5.0",
            "layout": "IPY_MODEL_70546fcb989144058f5dffb3401a0bc9",
            "height": "",
            "_model_module": "@jupyter-widgets/controls"
          }
        },
        "c052bc11d2334f38865d151b9c783cee": {
          "model_module": "@jupyter-widgets/controls",
          "model_name": "ButtonModel",
          "state": {
            "_view_name": "ButtonView",
            "style": "IPY_MODEL_b8e2bfc1da50417dbc6ef29aa7df6b79",
            "_dom_classes": [],
            "description": "Delete",
            "_model_name": "ButtonModel",
            "button_style": "",
            "_view_module": "@jupyter-widgets/controls",
            "_model_module_version": "1.5.0",
            "tooltip": "",
            "_view_count": null,
            "disabled": false,
            "_view_module_version": "1.5.0",
            "layout": "IPY_MODEL_be05e40e708342788114319b6e52a083",
            "_model_module": "@jupyter-widgets/controls",
            "icon": ""
          }
        },
        "77ac1fac19524b4892f0a57f064ef1c4": {
          "model_module": "@jupyter-widgets/controls",
          "model_name": "ImageModel",
          "state": {
            "_view_name": "ImageView",
            "_dom_classes": [],
            "_model_name": "ImageModel",
            "format": "jpg",
            "_view_module": "@jupyter-widgets/controls",
            "_model_module_version": "1.5.0",
            "_view_count": null,
            "width": "",
            "_view_module_version": "1.5.0",
            "layout": "IPY_MODEL_70546fcb989144058f5dffb3401a0bc9",
            "height": "",
            "_model_module": "@jupyter-widgets/controls"
          }
        },
        "424a7f799c0742efb7c6f0f3b7c1e25d": {
          "model_module": "@jupyter-widgets/controls",
          "model_name": "ButtonModel",
          "state": {
            "_view_name": "ButtonView",
            "style": "IPY_MODEL_2eaef119e949433e900c2e44d71c972b",
            "_dom_classes": [],
            "description": "Delete",
            "_model_name": "ButtonModel",
            "button_style": "danger",
            "_view_module": "@jupyter-widgets/controls",
            "_model_module_version": "1.5.0",
            "tooltip": "",
            "_view_count": null,
            "disabled": false,
            "_view_module_version": "1.5.0",
            "layout": "IPY_MODEL_be05e40e708342788114319b6e52a083",
            "_model_module": "@jupyter-widgets/controls",
            "icon": ""
          }
        },
        "b8e2bfc1da50417dbc6ef29aa7df6b79": {
          "model_module": "@jupyter-widgets/controls",
          "model_name": "ButtonStyleModel",
          "state": {
            "_view_name": "StyleView",
            "_model_name": "ButtonStyleModel",
            "_view_module": "@jupyter-widgets/base",
            "_model_module_version": "1.5.0",
            "_view_count": null,
            "button_color": null,
            "font_weight": "",
            "_view_module_version": "1.2.0",
            "_model_module": "@jupyter-widgets/controls"
          }
        },
        "2eaef119e949433e900c2e44d71c972b": {
          "model_module": "@jupyter-widgets/controls",
          "model_name": "ButtonStyleModel",
          "state": {
            "_view_name": "StyleView",
            "_model_name": "ButtonStyleModel",
            "_view_module": "@jupyter-widgets/base",
            "_model_module_version": "1.5.0",
            "_view_count": null,
            "button_color": null,
            "font_weight": "",
            "_view_module_version": "1.2.0",
            "_model_module": "@jupyter-widgets/controls"
          }
        },
        "bda8f3f3b13a4f7fa4dc4ca100044ba6": {
          "model_module": "@jupyter-widgets/controls",
          "model_name": "ButtonModel",
          "state": {
            "_view_name": "ButtonView",
            "style": "IPY_MODEL_67d4235838b84219ba9a57019fde6b1e",
            "_dom_classes": [],
            "description": "Next Batch",
            "_model_name": "ButtonModel",
            "button_style": "primary",
            "_view_module": "@jupyter-widgets/controls",
            "_model_module_version": "1.5.0",
            "tooltip": "",
            "_view_count": null,
            "disabled": false,
            "_view_module_version": "1.5.0",
            "layout": "IPY_MODEL_be05e40e708342788114319b6e52a083",
            "_model_module": "@jupyter-widgets/controls",
            "icon": ""
          }
        },
        "67d4235838b84219ba9a57019fde6b1e": {
          "model_module": "@jupyter-widgets/controls",
          "model_name": "ButtonStyleModel",
          "state": {
            "_view_name": "StyleView",
            "_model_name": "ButtonStyleModel",
            "_view_module": "@jupyter-widgets/base",
            "_model_module_version": "1.5.0",
            "_view_count": null,
            "button_color": null,
            "font_weight": "",
            "_view_module_version": "1.2.0",
            "_model_module": "@jupyter-widgets/controls"
          }
        },
        "70c39623b46647778eaa9eefd0756a66": {
          "model_module": "@jupyter-widgets/controls",
          "model_name": "HBoxModel",
          "state": {
            "_view_name": "HBoxView",
            "_dom_classes": [],
            "_model_name": "HBoxModel",
            "_view_module": "@jupyter-widgets/controls",
            "_model_module_version": "1.5.0",
            "_view_count": null,
            "_view_module_version": "1.5.0",
            "box_style": "",
            "layout": "IPY_MODEL_d7a6b36fc54a4e65ae5e77825acb8f2e",
            "_model_module": "@jupyter-widgets/controls",
            "children": [
              "IPY_MODEL_a38717078e5f454a98b705c9f6b8c581",
              "IPY_MODEL_9f9f73838bfe440083d95504141deb72"
            ]
          }
        },
        "a38717078e5f454a98b705c9f6b8c581": {
          "model_module": "@jupyter-widgets/controls",
          "model_name": "VBoxModel",
          "state": {
            "_view_name": "VBoxView",
            "_dom_classes": [],
            "_model_name": "VBoxModel",
            "_view_module": "@jupyter-widgets/controls",
            "_model_module_version": "1.5.0",
            "_view_count": null,
            "_view_module_version": "1.5.0",
            "box_style": "",
            "layout": "IPY_MODEL_c123e5147339440b9a2e1c7322682a23",
            "_model_module": "@jupyter-widgets/controls",
            "children": [
              "IPY_MODEL_d3a939e79e364c5aa6ecda2e742de1bd",
              "IPY_MODEL_fc80669533094d66b8620d3bef3b3002"
            ]
          }
        },
        "9f9f73838bfe440083d95504141deb72": {
          "model_module": "@jupyter-widgets/controls",
          "model_name": "VBoxModel",
          "state": {
            "_view_name": "VBoxView",
            "_dom_classes": [],
            "_model_name": "VBoxModel",
            "_view_module": "@jupyter-widgets/controls",
            "_model_module_version": "1.5.0",
            "_view_count": null,
            "_view_module_version": "1.5.0",
            "box_style": "",
            "layout": "IPY_MODEL_c123e5147339440b9a2e1c7322682a23",
            "_model_module": "@jupyter-widgets/controls",
            "children": [
              "IPY_MODEL_b54ac2a843cf475ebb159141d146f4c1",
              "IPY_MODEL_784a118db0474efb8b8b98522e73f2e3"
            ]
          }
        },
        "d3a939e79e364c5aa6ecda2e742de1bd": {
          "model_module": "@jupyter-widgets/controls",
          "model_name": "ImageModel",
          "state": {
            "_view_name": "ImageView",
            "_dom_classes": [],
            "_model_name": "ImageModel",
            "format": "jpg",
            "_view_module": "@jupyter-widgets/controls",
            "_model_module_version": "1.5.0",
            "_view_count": null,
            "width": "",
            "_view_module_version": "1.5.0",
            "layout": "IPY_MODEL_70546fcb989144058f5dffb3401a0bc9",
            "height": "",
            "_model_module": "@jupyter-widgets/controls"
          }
        },
        "fc80669533094d66b8620d3bef3b3002": {
          "model_module": "@jupyter-widgets/controls",
          "model_name": "ButtonModel",
          "state": {
            "_view_name": "ButtonView",
            "style": "IPY_MODEL_e1b4db9451f14d3d9a700061bf7c2652",
            "_dom_classes": [],
            "description": "Delete",
            "_model_name": "ButtonModel",
            "button_style": "",
            "_view_module": "@jupyter-widgets/controls",
            "_model_module_version": "1.5.0",
            "tooltip": "",
            "_view_count": null,
            "disabled": false,
            "_view_module_version": "1.5.0",
            "layout": "IPY_MODEL_be05e40e708342788114319b6e52a083",
            "_model_module": "@jupyter-widgets/controls",
            "icon": ""
          }
        },
        "b54ac2a843cf475ebb159141d146f4c1": {
          "model_module": "@jupyter-widgets/controls",
          "model_name": "ImageModel",
          "state": {
            "_view_name": "ImageView",
            "_dom_classes": [],
            "_model_name": "ImageModel",
            "format": "jpg",
            "_view_module": "@jupyter-widgets/controls",
            "_model_module_version": "1.5.0",
            "_view_count": null,
            "width": "",
            "_view_module_version": "1.5.0",
            "layout": "IPY_MODEL_70546fcb989144058f5dffb3401a0bc9",
            "height": "",
            "_model_module": "@jupyter-widgets/controls"
          }
        },
        "784a118db0474efb8b8b98522e73f2e3": {
          "model_module": "@jupyter-widgets/controls",
          "model_name": "ButtonModel",
          "state": {
            "_view_name": "ButtonView",
            "style": "IPY_MODEL_ffeaa20f0fd248d9b084e880185acaae",
            "_dom_classes": [],
            "description": "Delete",
            "_model_name": "ButtonModel",
            "button_style": "danger",
            "_view_module": "@jupyter-widgets/controls",
            "_model_module_version": "1.5.0",
            "tooltip": "",
            "_view_count": null,
            "disabled": false,
            "_view_module_version": "1.5.0",
            "layout": "IPY_MODEL_be05e40e708342788114319b6e52a083",
            "_model_module": "@jupyter-widgets/controls",
            "icon": ""
          }
        },
        "e1b4db9451f14d3d9a700061bf7c2652": {
          "model_module": "@jupyter-widgets/controls",
          "model_name": "ButtonStyleModel",
          "state": {
            "_view_name": "StyleView",
            "_model_name": "ButtonStyleModel",
            "_view_module": "@jupyter-widgets/base",
            "_model_module_version": "1.5.0",
            "_view_count": null,
            "button_color": null,
            "font_weight": "",
            "_view_module_version": "1.2.0",
            "_model_module": "@jupyter-widgets/controls"
          }
        },
        "ffeaa20f0fd248d9b084e880185acaae": {
          "model_module": "@jupyter-widgets/controls",
          "model_name": "ButtonStyleModel",
          "state": {
            "_view_name": "StyleView",
            "_model_name": "ButtonStyleModel",
            "_view_module": "@jupyter-widgets/base",
            "_model_module_version": "1.5.0",
            "_view_count": null,
            "button_color": null,
            "font_weight": "",
            "_view_module_version": "1.2.0",
            "_model_module": "@jupyter-widgets/controls"
          }
        },
        "f51ad1c26a454603bb64bdf4f7f79045": {
          "model_module": "@jupyter-widgets/controls",
          "model_name": "ButtonModel",
          "state": {
            "_view_name": "ButtonView",
            "style": "IPY_MODEL_32c57d954412416fb242d0b98f74f13c",
            "_dom_classes": [],
            "description": "Next Batch",
            "_model_name": "ButtonModel",
            "button_style": "primary",
            "_view_module": "@jupyter-widgets/controls",
            "_model_module_version": "1.5.0",
            "tooltip": "",
            "_view_count": null,
            "disabled": false,
            "_view_module_version": "1.5.0",
            "layout": "IPY_MODEL_be05e40e708342788114319b6e52a083",
            "_model_module": "@jupyter-widgets/controls",
            "icon": ""
          }
        },
        "32c57d954412416fb242d0b98f74f13c": {
          "model_module": "@jupyter-widgets/controls",
          "model_name": "ButtonStyleModel",
          "state": {
            "_view_name": "StyleView",
            "_model_name": "ButtonStyleModel",
            "_view_module": "@jupyter-widgets/base",
            "_model_module_version": "1.5.0",
            "_view_count": null,
            "button_color": null,
            "font_weight": "",
            "_view_module_version": "1.2.0",
            "_model_module": "@jupyter-widgets/controls"
          }
        },
        "14dd8fc5333c4bd180ac433c05ff93ed": {
          "model_module": "@jupyter-widgets/controls",
          "model_name": "HBoxModel",
          "state": {
            "_view_name": "HBoxView",
            "_dom_classes": [],
            "_model_name": "HBoxModel",
            "_view_module": "@jupyter-widgets/controls",
            "_model_module_version": "1.5.0",
            "_view_count": null,
            "_view_module_version": "1.5.0",
            "box_style": "",
            "layout": "IPY_MODEL_d7a6b36fc54a4e65ae5e77825acb8f2e",
            "_model_module": "@jupyter-widgets/controls",
            "children": [
              "IPY_MODEL_90e30cd53a6642179818cdcff6530c83",
              "IPY_MODEL_ca51b98bc2f64f23a9ef36de58b48433"
            ]
          }
        },
        "90e30cd53a6642179818cdcff6530c83": {
          "model_module": "@jupyter-widgets/controls",
          "model_name": "VBoxModel",
          "state": {
            "_view_name": "VBoxView",
            "_dom_classes": [],
            "_model_name": "VBoxModel",
            "_view_module": "@jupyter-widgets/controls",
            "_model_module_version": "1.5.0",
            "_view_count": null,
            "_view_module_version": "1.5.0",
            "box_style": "",
            "layout": "IPY_MODEL_c123e5147339440b9a2e1c7322682a23",
            "_model_module": "@jupyter-widgets/controls",
            "children": [
              "IPY_MODEL_939ce5b36fbf4a3fbc18891a900d20aa",
              "IPY_MODEL_5b17a204c5d943b5b870092f0add35bd"
            ]
          }
        },
        "ca51b98bc2f64f23a9ef36de58b48433": {
          "model_module": "@jupyter-widgets/controls",
          "model_name": "VBoxModel",
          "state": {
            "_view_name": "VBoxView",
            "_dom_classes": [],
            "_model_name": "VBoxModel",
            "_view_module": "@jupyter-widgets/controls",
            "_model_module_version": "1.5.0",
            "_view_count": null,
            "_view_module_version": "1.5.0",
            "box_style": "",
            "layout": "IPY_MODEL_c123e5147339440b9a2e1c7322682a23",
            "_model_module": "@jupyter-widgets/controls",
            "children": [
              "IPY_MODEL_1ac317424e364f709414b468397052cd",
              "IPY_MODEL_c41433dc39e34011b7cb94ce10a820ba"
            ]
          }
        },
        "939ce5b36fbf4a3fbc18891a900d20aa": {
          "model_module": "@jupyter-widgets/controls",
          "model_name": "ImageModel",
          "state": {
            "_view_name": "ImageView",
            "_dom_classes": [],
            "_model_name": "ImageModel",
            "format": "jpg",
            "_view_module": "@jupyter-widgets/controls",
            "_model_module_version": "1.5.0",
            "_view_count": null,
            "width": "",
            "_view_module_version": "1.5.0",
            "layout": "IPY_MODEL_70546fcb989144058f5dffb3401a0bc9",
            "height": "",
            "_model_module": "@jupyter-widgets/controls"
          }
        },
        "5b17a204c5d943b5b870092f0add35bd": {
          "model_module": "@jupyter-widgets/controls",
          "model_name": "ButtonModel",
          "state": {
            "_view_name": "ButtonView",
            "style": "IPY_MODEL_1b15e801f049462bafc58f589c14739b",
            "_dom_classes": [],
            "description": "Delete",
            "_model_name": "ButtonModel",
            "button_style": "",
            "_view_module": "@jupyter-widgets/controls",
            "_model_module_version": "1.5.0",
            "tooltip": "",
            "_view_count": null,
            "disabled": false,
            "_view_module_version": "1.5.0",
            "layout": "IPY_MODEL_be05e40e708342788114319b6e52a083",
            "_model_module": "@jupyter-widgets/controls",
            "icon": ""
          }
        },
        "1ac317424e364f709414b468397052cd": {
          "model_module": "@jupyter-widgets/controls",
          "model_name": "ImageModel",
          "state": {
            "_view_name": "ImageView",
            "_dom_classes": [],
            "_model_name": "ImageModel",
            "format": "jpg",
            "_view_module": "@jupyter-widgets/controls",
            "_model_module_version": "1.5.0",
            "_view_count": null,
            "width": "",
            "_view_module_version": "1.5.0",
            "layout": "IPY_MODEL_70546fcb989144058f5dffb3401a0bc9",
            "height": "",
            "_model_module": "@jupyter-widgets/controls"
          }
        },
        "c41433dc39e34011b7cb94ce10a820ba": {
          "model_module": "@jupyter-widgets/controls",
          "model_name": "ButtonModel",
          "state": {
            "_view_name": "ButtonView",
            "style": "IPY_MODEL_109b0c87a9ce4289b34a57d58f522701",
            "_dom_classes": [],
            "description": "Delete",
            "_model_name": "ButtonModel",
            "button_style": "danger",
            "_view_module": "@jupyter-widgets/controls",
            "_model_module_version": "1.5.0",
            "tooltip": "",
            "_view_count": null,
            "disabled": false,
            "_view_module_version": "1.5.0",
            "layout": "IPY_MODEL_be05e40e708342788114319b6e52a083",
            "_model_module": "@jupyter-widgets/controls",
            "icon": ""
          }
        },
        "1b15e801f049462bafc58f589c14739b": {
          "model_module": "@jupyter-widgets/controls",
          "model_name": "ButtonStyleModel",
          "state": {
            "_view_name": "StyleView",
            "_model_name": "ButtonStyleModel",
            "_view_module": "@jupyter-widgets/base",
            "_model_module_version": "1.5.0",
            "_view_count": null,
            "button_color": null,
            "font_weight": "",
            "_view_module_version": "1.2.0",
            "_model_module": "@jupyter-widgets/controls"
          }
        },
        "109b0c87a9ce4289b34a57d58f522701": {
          "model_module": "@jupyter-widgets/controls",
          "model_name": "ButtonStyleModel",
          "state": {
            "_view_name": "StyleView",
            "_model_name": "ButtonStyleModel",
            "_view_module": "@jupyter-widgets/base",
            "_model_module_version": "1.5.0",
            "_view_count": null,
            "button_color": null,
            "font_weight": "",
            "_view_module_version": "1.2.0",
            "_model_module": "@jupyter-widgets/controls"
          }
        },
        "8eff92af4e5e4a81b79d3103f1a18c5d": {
          "model_module": "@jupyter-widgets/controls",
          "model_name": "ButtonModel",
          "state": {
            "_view_name": "ButtonView",
            "style": "IPY_MODEL_7593af19c1404126bef2835067fefe34",
            "_dom_classes": [],
            "description": "Next Batch",
            "_model_name": "ButtonModel",
            "button_style": "primary",
            "_view_module": "@jupyter-widgets/controls",
            "_model_module_version": "1.5.0",
            "tooltip": "",
            "_view_count": null,
            "disabled": false,
            "_view_module_version": "1.5.0",
            "layout": "IPY_MODEL_be05e40e708342788114319b6e52a083",
            "_model_module": "@jupyter-widgets/controls",
            "icon": ""
          }
        },
        "7593af19c1404126bef2835067fefe34": {
          "model_module": "@jupyter-widgets/controls",
          "model_name": "ButtonStyleModel",
          "state": {
            "_view_name": "StyleView",
            "_model_name": "ButtonStyleModel",
            "_view_module": "@jupyter-widgets/base",
            "_model_module_version": "1.5.0",
            "_view_count": null,
            "button_color": null,
            "font_weight": "",
            "_view_module_version": "1.2.0",
            "_model_module": "@jupyter-widgets/controls"
          }
        },
        "bfebe4cbd78b4a41aacd5eaec008fad3": {
          "model_module": "@jupyter-widgets/controls",
          "model_name": "HBoxModel",
          "state": {
            "_view_name": "HBoxView",
            "_dom_classes": [],
            "_model_name": "HBoxModel",
            "_view_module": "@jupyter-widgets/controls",
            "_model_module_version": "1.5.0",
            "_view_count": null,
            "_view_module_version": "1.5.0",
            "box_style": "",
            "layout": "IPY_MODEL_d7a6b36fc54a4e65ae5e77825acb8f2e",
            "_model_module": "@jupyter-widgets/controls",
            "children": [
              "IPY_MODEL_17a6d5474be9465aa5dd03d8503ede4c",
              "IPY_MODEL_0a257501f9574637be754616a790a605"
            ]
          }
        },
        "17a6d5474be9465aa5dd03d8503ede4c": {
          "model_module": "@jupyter-widgets/controls",
          "model_name": "VBoxModel",
          "state": {
            "_view_name": "VBoxView",
            "_dom_classes": [],
            "_model_name": "VBoxModel",
            "_view_module": "@jupyter-widgets/controls",
            "_model_module_version": "1.5.0",
            "_view_count": null,
            "_view_module_version": "1.5.0",
            "box_style": "",
            "layout": "IPY_MODEL_c123e5147339440b9a2e1c7322682a23",
            "_model_module": "@jupyter-widgets/controls",
            "children": [
              "IPY_MODEL_60f7a0213a624a40869f955b7eb11700",
              "IPY_MODEL_b603c208502f49fdbb849574ab328f8b"
            ]
          }
        },
        "0a257501f9574637be754616a790a605": {
          "model_module": "@jupyter-widgets/controls",
          "model_name": "VBoxModel",
          "state": {
            "_view_name": "VBoxView",
            "_dom_classes": [],
            "_model_name": "VBoxModel",
            "_view_module": "@jupyter-widgets/controls",
            "_model_module_version": "1.5.0",
            "_view_count": null,
            "_view_module_version": "1.5.0",
            "box_style": "",
            "layout": "IPY_MODEL_c123e5147339440b9a2e1c7322682a23",
            "_model_module": "@jupyter-widgets/controls",
            "children": [
              "IPY_MODEL_07c8dbc2277f413fa76d1f846e7ac681",
              "IPY_MODEL_3b7a2a884abf4ec2ad44c260b9fc9d95"
            ]
          }
        },
        "60f7a0213a624a40869f955b7eb11700": {
          "model_module": "@jupyter-widgets/controls",
          "model_name": "ImageModel",
          "state": {
            "_view_name": "ImageView",
            "_dom_classes": [],
            "_model_name": "ImageModel",
            "format": "jpg",
            "_view_module": "@jupyter-widgets/controls",
            "_model_module_version": "1.5.0",
            "_view_count": null,
            "width": "",
            "_view_module_version": "1.5.0",
            "layout": "IPY_MODEL_70546fcb989144058f5dffb3401a0bc9",
            "height": "",
            "_model_module": "@jupyter-widgets/controls"
          }
        },
        "b603c208502f49fdbb849574ab328f8b": {
          "model_module": "@jupyter-widgets/controls",
          "model_name": "ButtonModel",
          "state": {
            "_view_name": "ButtonView",
            "style": "IPY_MODEL_91f01fb253e3420a91169bb1ee9d2dc9",
            "_dom_classes": [],
            "description": "Delete",
            "_model_name": "ButtonModel",
            "button_style": "",
            "_view_module": "@jupyter-widgets/controls",
            "_model_module_version": "1.5.0",
            "tooltip": "",
            "_view_count": null,
            "disabled": false,
            "_view_module_version": "1.5.0",
            "layout": "IPY_MODEL_be05e40e708342788114319b6e52a083",
            "_model_module": "@jupyter-widgets/controls",
            "icon": ""
          }
        },
        "07c8dbc2277f413fa76d1f846e7ac681": {
          "model_module": "@jupyter-widgets/controls",
          "model_name": "ImageModel",
          "state": {
            "_view_name": "ImageView",
            "_dom_classes": [],
            "_model_name": "ImageModel",
            "format": "jpg",
            "_view_module": "@jupyter-widgets/controls",
            "_model_module_version": "1.5.0",
            "_view_count": null,
            "width": "",
            "_view_module_version": "1.5.0",
            "layout": "IPY_MODEL_70546fcb989144058f5dffb3401a0bc9",
            "height": "",
            "_model_module": "@jupyter-widgets/controls"
          }
        },
        "3b7a2a884abf4ec2ad44c260b9fc9d95": {
          "model_module": "@jupyter-widgets/controls",
          "model_name": "ButtonModel",
          "state": {
            "_view_name": "ButtonView",
            "style": "IPY_MODEL_144ea262f06640ac88140fc3b178bfa2",
            "_dom_classes": [],
            "description": "Delete",
            "_model_name": "ButtonModel",
            "button_style": "danger",
            "_view_module": "@jupyter-widgets/controls",
            "_model_module_version": "1.5.0",
            "tooltip": "",
            "_view_count": null,
            "disabled": false,
            "_view_module_version": "1.5.0",
            "layout": "IPY_MODEL_be05e40e708342788114319b6e52a083",
            "_model_module": "@jupyter-widgets/controls",
            "icon": ""
          }
        },
        "91f01fb253e3420a91169bb1ee9d2dc9": {
          "model_module": "@jupyter-widgets/controls",
          "model_name": "ButtonStyleModel",
          "state": {
            "_view_name": "StyleView",
            "_model_name": "ButtonStyleModel",
            "_view_module": "@jupyter-widgets/base",
            "_model_module_version": "1.5.0",
            "_view_count": null,
            "button_color": null,
            "font_weight": "",
            "_view_module_version": "1.2.0",
            "_model_module": "@jupyter-widgets/controls"
          }
        },
        "144ea262f06640ac88140fc3b178bfa2": {
          "model_module": "@jupyter-widgets/controls",
          "model_name": "ButtonStyleModel",
          "state": {
            "_view_name": "StyleView",
            "_model_name": "ButtonStyleModel",
            "_view_module": "@jupyter-widgets/base",
            "_model_module_version": "1.5.0",
            "_view_count": null,
            "button_color": null,
            "font_weight": "",
            "_view_module_version": "1.2.0",
            "_model_module": "@jupyter-widgets/controls"
          }
        },
        "2686b46c628d4bd3b6811107155dff90": {
          "model_module": "@jupyter-widgets/controls",
          "model_name": "ButtonModel",
          "state": {
            "_view_name": "ButtonView",
            "style": "IPY_MODEL_c004dbfa61744e39ac330c3e5c7c33d2",
            "_dom_classes": [],
            "description": "Next Batch",
            "_model_name": "ButtonModel",
            "button_style": "primary",
            "_view_module": "@jupyter-widgets/controls",
            "_model_module_version": "1.5.0",
            "tooltip": "",
            "_view_count": null,
            "disabled": false,
            "_view_module_version": "1.5.0",
            "layout": "IPY_MODEL_be05e40e708342788114319b6e52a083",
            "_model_module": "@jupyter-widgets/controls",
            "icon": ""
          }
        },
        "c004dbfa61744e39ac330c3e5c7c33d2": {
          "model_module": "@jupyter-widgets/controls",
          "model_name": "ButtonStyleModel",
          "state": {
            "_view_name": "StyleView",
            "_model_name": "ButtonStyleModel",
            "_view_module": "@jupyter-widgets/base",
            "_model_module_version": "1.5.0",
            "_view_count": null,
            "button_color": null,
            "font_weight": "",
            "_view_module_version": "1.2.0",
            "_model_module": "@jupyter-widgets/controls"
          }
        },
        "31563b1048f745499926818baf9d34db": {
          "model_module": "@jupyter-widgets/controls",
          "model_name": "HBoxModel",
          "state": {
            "_view_name": "HBoxView",
            "_dom_classes": [],
            "_model_name": "HBoxModel",
            "_view_module": "@jupyter-widgets/controls",
            "_model_module_version": "1.5.0",
            "_view_count": null,
            "_view_module_version": "1.5.0",
            "box_style": "",
            "layout": "IPY_MODEL_d7a6b36fc54a4e65ae5e77825acb8f2e",
            "_model_module": "@jupyter-widgets/controls",
            "children": [
              "IPY_MODEL_2e290bce6aef4d95b5d872b7f960e07f",
              "IPY_MODEL_a2df08a072684c459d67639baa0ac784"
            ]
          }
        },
        "2e290bce6aef4d95b5d872b7f960e07f": {
          "model_module": "@jupyter-widgets/controls",
          "model_name": "VBoxModel",
          "state": {
            "_view_name": "VBoxView",
            "_dom_classes": [],
            "_model_name": "VBoxModel",
            "_view_module": "@jupyter-widgets/controls",
            "_model_module_version": "1.5.0",
            "_view_count": null,
            "_view_module_version": "1.5.0",
            "box_style": "",
            "layout": "IPY_MODEL_c123e5147339440b9a2e1c7322682a23",
            "_model_module": "@jupyter-widgets/controls",
            "children": [
              "IPY_MODEL_11c73ff1830d4c9dae9ffdd9df00f60d",
              "IPY_MODEL_251322491ad14ab3b2975d9548fb552c"
            ]
          }
        },
        "a2df08a072684c459d67639baa0ac784": {
          "model_module": "@jupyter-widgets/controls",
          "model_name": "VBoxModel",
          "state": {
            "_view_name": "VBoxView",
            "_dom_classes": [],
            "_model_name": "VBoxModel",
            "_view_module": "@jupyter-widgets/controls",
            "_model_module_version": "1.5.0",
            "_view_count": null,
            "_view_module_version": "1.5.0",
            "box_style": "",
            "layout": "IPY_MODEL_c123e5147339440b9a2e1c7322682a23",
            "_model_module": "@jupyter-widgets/controls",
            "children": [
              "IPY_MODEL_75dd074869804cde84fb08e77347c457",
              "IPY_MODEL_64777bd7922c464282f1d43f5ca6c581"
            ]
          }
        },
        "11c73ff1830d4c9dae9ffdd9df00f60d": {
          "model_module": "@jupyter-widgets/controls",
          "model_name": "ImageModel",
          "state": {
            "_view_name": "ImageView",
            "_dom_classes": [],
            "_model_name": "ImageModel",
            "format": "jpg",
            "_view_module": "@jupyter-widgets/controls",
            "_model_module_version": "1.5.0",
            "_view_count": null,
            "width": "",
            "_view_module_version": "1.5.0",
            "layout": "IPY_MODEL_70546fcb989144058f5dffb3401a0bc9",
            "height": "",
            "_model_module": "@jupyter-widgets/controls"
          }
        },
        "251322491ad14ab3b2975d9548fb552c": {
          "model_module": "@jupyter-widgets/controls",
          "model_name": "ButtonModel",
          "state": {
            "_view_name": "ButtonView",
            "style": "IPY_MODEL_68c2c0c4e35f44f3a2e52c94c71850e9",
            "_dom_classes": [],
            "description": "Delete",
            "_model_name": "ButtonModel",
            "button_style": "",
            "_view_module": "@jupyter-widgets/controls",
            "_model_module_version": "1.5.0",
            "tooltip": "",
            "_view_count": null,
            "disabled": false,
            "_view_module_version": "1.5.0",
            "layout": "IPY_MODEL_be05e40e708342788114319b6e52a083",
            "_model_module": "@jupyter-widgets/controls",
            "icon": ""
          }
        },
        "75dd074869804cde84fb08e77347c457": {
          "model_module": "@jupyter-widgets/controls",
          "model_name": "ImageModel",
          "state": {
            "_view_name": "ImageView",
            "_dom_classes": [],
            "_model_name": "ImageModel",
            "format": "jpg",
            "_view_module": "@jupyter-widgets/controls",
            "_model_module_version": "1.5.0",
            "_view_count": null,
            "width": "",
            "_view_module_version": "1.5.0",
            "layout": "IPY_MODEL_70546fcb989144058f5dffb3401a0bc9",
            "height": "",
            "_model_module": "@jupyter-widgets/controls"
          }
        },
        "64777bd7922c464282f1d43f5ca6c581": {
          "model_module": "@jupyter-widgets/controls",
          "model_name": "ButtonModel",
          "state": {
            "_view_name": "ButtonView",
            "style": "IPY_MODEL_b1a2992558dc47969f6649823ac4f3f7",
            "_dom_classes": [],
            "description": "Delete",
            "_model_name": "ButtonModel",
            "button_style": "",
            "_view_module": "@jupyter-widgets/controls",
            "_model_module_version": "1.5.0",
            "tooltip": "",
            "_view_count": null,
            "disabled": false,
            "_view_module_version": "1.5.0",
            "layout": "IPY_MODEL_be05e40e708342788114319b6e52a083",
            "_model_module": "@jupyter-widgets/controls",
            "icon": ""
          }
        },
        "68c2c0c4e35f44f3a2e52c94c71850e9": {
          "model_module": "@jupyter-widgets/controls",
          "model_name": "ButtonStyleModel",
          "state": {
            "_view_name": "StyleView",
            "_model_name": "ButtonStyleModel",
            "_view_module": "@jupyter-widgets/base",
            "_model_module_version": "1.5.0",
            "_view_count": null,
            "button_color": null,
            "font_weight": "",
            "_view_module_version": "1.2.0",
            "_model_module": "@jupyter-widgets/controls"
          }
        },
        "b1a2992558dc47969f6649823ac4f3f7": {
          "model_module": "@jupyter-widgets/controls",
          "model_name": "ButtonStyleModel",
          "state": {
            "_view_name": "StyleView",
            "_model_name": "ButtonStyleModel",
            "_view_module": "@jupyter-widgets/base",
            "_model_module_version": "1.5.0",
            "_view_count": null,
            "button_color": null,
            "font_weight": "",
            "_view_module_version": "1.2.0",
            "_model_module": "@jupyter-widgets/controls"
          }
        },
        "133bfbe5746449dbad5f9507fba7a6f2": {
          "model_module": "@jupyter-widgets/controls",
          "model_name": "ButtonModel",
          "state": {
            "_view_name": "ButtonView",
            "style": "IPY_MODEL_86ba3113c6e647069d5ac1d7145b7e1f",
            "_dom_classes": [],
            "description": "Next Batch",
            "_model_name": "ButtonModel",
            "button_style": "primary",
            "_view_module": "@jupyter-widgets/controls",
            "_model_module_version": "1.5.0",
            "tooltip": "",
            "_view_count": null,
            "disabled": false,
            "_view_module_version": "1.5.0",
            "layout": "IPY_MODEL_be05e40e708342788114319b6e52a083",
            "_model_module": "@jupyter-widgets/controls",
            "icon": ""
          }
        },
        "86ba3113c6e647069d5ac1d7145b7e1f": {
          "model_module": "@jupyter-widgets/controls",
          "model_name": "ButtonStyleModel",
          "state": {
            "_view_name": "StyleView",
            "_model_name": "ButtonStyleModel",
            "_view_module": "@jupyter-widgets/base",
            "_model_module_version": "1.5.0",
            "_view_count": null,
            "button_color": null,
            "font_weight": "",
            "_view_module_version": "1.2.0",
            "_model_module": "@jupyter-widgets/controls"
          }
        }
      }
    }
  },
  "cells": [
    {
      "cell_type": "markdown",
      "metadata": {
        "id": "5rUIo0D9-7Rt"
      },
      "source": [
        "# Create image dataset\n"
      ]
    },
    {
      "cell_type": "markdown",
      "metadata": {
        "id": "I-591nu0-x5p"
      },
      "source": [
        "To install required versions of pytorch\n"
      ]
    },
    {
      "cell_type": "code",
      "metadata": {
        "id": "zOVWWn_Y-wR0"
      },
      "source": [
        "!pip install torch==1.4+cu100 torchvision==0.5.0+cu100 -f https://download.pytorch.org/whl/torch_stable.html\n",
        "!nvidia-smi\n"
      ],
      "execution_count": null,
      "outputs": []
    },
    {
      "cell_type": "markdown",
      "metadata": {
        "id": "hauWz7at-wHb"
      },
      "source": [
        "Map google drive to the machine\n"
      ]
    },
    {
      "cell_type": "code",
      "metadata": {
        "colab": {
          "base_uri": "https://localhost:8080/"
        },
        "id": "_DxIzam_hWfG",
        "outputId": "c1b71c46-e637-48be-a2cd-94869d6d84a0"
      },
      "source": [
        "from google.colab import drive\n",
        "drive.mount('/content/drive')\n"
      ],
      "execution_count": 2,
      "outputs": [
        {
          "output_type": "stream",
          "text": [
            "Drive already mounted at /content/drive; to attempt to forcibly remount, call drive.mount(\"/content/drive\", force_remount=True).\n"
          ],
          "name": "stdout"
        }
      ]
    },
    {
      "cell_type": "code",
      "metadata": {
        "id": "9i24fsgMhb95"
      },
      "source": [
        "import os\n",
        "os.environ['FASTAI_HOME'] = '/content/drive/My Drive/fastai'"
      ],
      "execution_count": 3,
      "outputs": []
    },
    {
      "cell_type": "code",
      "metadata": {
        "id": "EfpQk2CPeLL1"
      },
      "source": [
        "from fastai.vision import *"
      ],
      "execution_count": 1,
      "outputs": []
    },
    {
      "cell_type": "markdown",
      "metadata": {
        "id": "So7QJa06--zM"
      },
      "source": [
        "Where will we store our images\n"
      ]
    },
    {
      "cell_type": "code",
      "metadata": {
        "id": "d8YQy9a_hko0"
      },
      "source": [
        "path = Path('/content/drive/My Drive/fastai/data/fruits')"
      ],
      "execution_count": 4,
      "outputs": []
    },
    {
      "cell_type": "markdown",
      "metadata": {
        "id": "qpBpTJoM_B_b"
      },
      "source": [
        "The classes (labels) we have downloaded\n"
      ]
    },
    {
      "cell_type": "code",
      "metadata": {
        "id": "nooJPiMMhyKW"
      },
      "source": [
        "classes = ['pear','peach','watermelon','strawberry']"
      ],
      "execution_count": 5,
      "outputs": []
    },
    {
      "cell_type": "markdown",
      "metadata": {
        "id": "4iw9FZQW_FmL"
      },
      "source": [
        "Create destination directories\n"
      ]
    },
    {
      "cell_type": "code",
      "metadata": {
        "id": "FhK9y5Wmh7tH"
      },
      "source": [
        "for c in classes:\n",
        "  dest_dir = path/c\n",
        "  dest_dir.mkdir(parents=True,exist_ok=True)"
      ],
      "execution_count": 7,
      "outputs": []
    },
    {
      "cell_type": "markdown",
      "metadata": {
        "id": "pjXu7lxY_Uiv"
      },
      "source": [
        "We will need a lot of images, we can use, as a source, APIs from search engines, like google, bing, duckduckgo, etc.\n",
        "\n",
        "I will use duckduckgo:\n",
        "\n",
        "Search for images on duck-duck-go, trying to make the search as accurate as possible.\n",
        "\n",
        "In my case, I'll search for: \n",
        "\n",
        "- pear\n",
        "- peach\n",
        "- watermelon\n",
        "- strawberry\n",
        "\n",
        "Once I have found a lot of images, I'll use Javascript to scrape from the open page (so, scroll down a lot, to have more images on the page). Open the javascript console (Ctrl+Shift+K on my firefox),and write these two lines, one by one:\n",
        "\n",
        "\n",
        "```\n",
        "urls = Array.from(document.querySelectorAll('img.tile--img__img.js-lazyload')).map(el=>decodeURIComponent(el.src.split('=')[1])); \n",
        "\n",
        "window.open('data:text/csv;charset=utf-8,' + escape(urls.join('\\n')));\n",
        "```\n",
        "\n",
        "First one creates an array of all URLs of the images on the page.\n",
        "\n",
        "The other one sends me that array as a CSV file. \n"
      ]
    },
    {
      "cell_type": "markdown",
      "metadata": {
        "id": "XA8S6sSc_Ijv"
      },
      "source": [
        "Download all images on CSV Files"
      ]
    },
    {
      "cell_type": "code",
      "metadata": {
        "colab": {
          "base_uri": "https://localhost:8080/",
          "height": 86
        },
        "id": "_ySfwjE4iHV7",
        "outputId": "9749f287-0378-43a2-f217-e52d6cf54c19"
      },
      "source": [
        "for c in classes:\n",
        "  dest_dir = path/c\n",
        "  fname = c+\".csv\"\n",
        "  filename = path/fname \n",
        "  print(filename)\n",
        "  download_images(filename,dest_dir,max_pics=300)"
      ],
      "execution_count": 8,
      "outputs": [
        {
          "output_type": "stream",
          "text": [
            "/content/drive/My Drive/fastai/data/fruits/pear.csv\n"
          ],
          "name": "stdout"
        },
        {
          "output_type": "display_data",
          "data": {
            "text/html": [
              ""
            ],
            "text/plain": [
              "<IPython.core.display.HTML object>"
            ]
          },
          "metadata": {
            "tags": []
          }
        },
        {
          "output_type": "stream",
          "text": [
            "/content/drive/My Drive/fastai/data/fruits/peach.csv\n"
          ],
          "name": "stdout"
        },
        {
          "output_type": "display_data",
          "data": {
            "text/html": [
              ""
            ],
            "text/plain": [
              "<IPython.core.display.HTML object>"
            ]
          },
          "metadata": {
            "tags": []
          }
        },
        {
          "output_type": "stream",
          "text": [
            "/content/drive/My Drive/fastai/data/fruits/watermelon.csv\n"
          ],
          "name": "stdout"
        },
        {
          "output_type": "display_data",
          "data": {
            "text/html": [
              ""
            ],
            "text/plain": [
              "<IPython.core.display.HTML object>"
            ]
          },
          "metadata": {
            "tags": []
          }
        },
        {
          "output_type": "stream",
          "text": [
            "/content/drive/My Drive/fastai/data/fruits/strawberry.csv\n"
          ],
          "name": "stdout"
        },
        {
          "output_type": "display_data",
          "data": {
            "text/html": [
              ""
            ],
            "text/plain": [
              "<IPython.core.display.HTML object>"
            ]
          },
          "metadata": {
            "tags": []
          }
        }
      ]
    },
    {
      "cell_type": "markdown",
      "metadata": {
        "id": "w0LRiizd_LdW"
      },
      "source": [
        "Verify images (well downloaded, reducing sizes, etc.)"
      ]
    },
    {
      "cell_type": "code",
      "metadata": {
        "colab": {
          "base_uri": "https://localhost:8080/",
          "height": 17
        },
        "id": "QVULHFhai1IQ",
        "outputId": "134fcee7-e595-4257-ff30-bd74b0ffcc2f"
      },
      "source": [
        "for c in classes:\n",
        "  verify_images(path/c, delete=True, max_size=500)"
      ],
      "execution_count": 9,
      "outputs": [
        {
          "output_type": "display_data",
          "data": {
            "text/html": [
              ""
            ],
            "text/plain": [
              "<IPython.core.display.HTML object>"
            ]
          },
          "metadata": {
            "tags": []
          }
        },
        {
          "output_type": "display_data",
          "data": {
            "text/html": [
              ""
            ],
            "text/plain": [
              "<IPython.core.display.HTML object>"
            ]
          },
          "metadata": {
            "tags": []
          }
        },
        {
          "output_type": "display_data",
          "data": {
            "text/html": [
              ""
            ],
            "text/plain": [
              "<IPython.core.display.HTML object>"
            ]
          },
          "metadata": {
            "tags": []
          }
        },
        {
          "output_type": "display_data",
          "data": {
            "text/html": [
              ""
            ],
            "text/plain": [
              "<IPython.core.display.HTML object>"
            ]
          },
          "metadata": {
            "tags": []
          }
        }
      ]
    },
    {
      "cell_type": "markdown",
      "metadata": {
        "id": "EmolWaRM_QG7"
      },
      "source": [
        ""
      ]
    },
    {
      "cell_type": "code",
      "metadata": {
        "id": "w3OS_nDmjEPp"
      },
      "source": [
        "np.random.seed(42)\n",
        "data = ImageDataBunch.from_folder(path, train=\".\", valid_pct=0.2, ds_tfms=get_transforms(),\n",
        "                                  size=224, num_workers=8).normalize(imagenet_stats)"
      ],
      "execution_count": 6,
      "outputs": []
    },
    {
      "cell_type": "code",
      "metadata": {
        "colab": {
          "base_uri": "https://localhost:8080/"
        },
        "id": "Umbz68SRjnh4",
        "outputId": "4390db75-4feb-4e01-876b-f3124de73d5f"
      },
      "source": [
        "data.classes"
      ],
      "execution_count": 7,
      "outputs": [
        {
          "output_type": "execute_result",
          "data": {
            "text/plain": [
              "['peach', 'pear', 'strawberry', 'watermelon']"
            ]
          },
          "metadata": {
            "tags": []
          },
          "execution_count": 7
        }
      ]
    },
    {
      "cell_type": "code",
      "metadata": {
        "colab": {
          "base_uri": "https://localhost:8080/",
          "height": 571
        },
        "id": "gqej_uFHjq7G",
        "outputId": "9c238bc3-ce68-4679-df4c-d657fe3ea555"
      },
      "source": [
        "data.show_batch(rows=6, figsize=(7,8))"
      ],
      "execution_count": 8,
      "outputs": [
        {
          "output_type": "display_data",
          "data": {
            "image/png": "[encoded data removed]",
            "text/plain": [
              "<Figure size 504x576 with 36 Axes>"
            ]
          },
          "metadata": {
            "tags": [],
            "needs_background": "light"
          }
        }
      ]
    },
    {
      "cell_type": "code",
      "metadata": {
        "colab": {
          "base_uri": "https://localhost:8080/"
        },
        "id": "dM1XTjgtju4k",
        "outputId": "048ead76-4f82-45e5-b783-eef2c6e20859"
      },
      "source": [
        "len(data.train_ds)"
      ],
      "execution_count": 10,
      "outputs": [
        {
          "output_type": "execute_result",
          "data": {
            "text/plain": [
              "960"
            ]
          },
          "metadata": {
            "tags": []
          },
          "execution_count": 10
        }
      ]
    },
    {
      "cell_type": "code",
      "metadata": {
        "colab": {
          "base_uri": "https://localhost:8080/"
        },
        "id": "1YBKa3iYj5nT",
        "outputId": "2d0ebd04-69f1-4d7b-c14a-e0671bba7f6e"
      },
      "source": [
        "len(data.valid_ds)"
      ],
      "execution_count": 11,
      "outputs": [
        {
          "output_type": "execute_result",
          "data": {
            "text/plain": [
              "240"
            ]
          },
          "metadata": {
            "tags": []
          },
          "execution_count": 11
        }
      ]
    },
    {
      "cell_type": "markdown",
      "metadata": {
        "id": "flaMgM-q_jk5"
      },
      "source": [
        "# Training\n",
        "\n",
        "We will train a RESNET34 network on the new dataset"
      ]
    },
    {
      "cell_type": "code",
      "metadata": {
        "colab": {
          "base_uri": "https://localhost:8080/",
          "height": 84,
          "referenced_widgets": [
            "d60c3941c9bb4ef4b03a6bd79042fb2e",
            "b4e825c574014e5e8132628e2525a8e7",
            "1eb9cd0970cc4294b15b7341ec87ff3e",
            "f028dbfb280949c6b19ed9d57f353de6",
            "d4218a0e4792444195d09bf8e9e42734",
            "fe5998b2fa86467596a8df3e3e08b045",
            "7749f2441aaf476c82fdf5a759d58dd2",
            "8af61da5119c46bfae44133cb0137be3"
          ]
        },
        "id": "OeVdmay2j7b7",
        "outputId": "22b0ba69-6a87-402f-e7be-7a1d46f219c9"
      },
      "source": [
        "learn = cnn_learner(data, models.resnet34, metrics=error_rate)"
      ],
      "execution_count": 12,
      "outputs": [
        {
          "output_type": "stream",
          "text": [
            "Downloading: \"https://download.pytorch.org/models/resnet34-333f7ec4.pth\" to /root/.cache/torch/checkpoints/resnet34-333f7ec4.pth\n"
          ],
          "name": "stderr"
        },
        {
          "output_type": "display_data",
          "data": {
            "application/vnd.jupyter.widget-view+json": {
              "model_id": "d60c3941c9bb4ef4b03a6bd79042fb2e",
              "version_minor": 0,
              "version_major": 2
            },
            "text/plain": [
              "HBox(children=(FloatProgress(value=0.0, max=87306240.0), HTML(value='')))"
            ]
          },
          "metadata": {
            "tags": []
          }
        },
        {
          "output_type": "stream",
          "text": [
            "\n"
          ],
          "name": "stdout"
        }
      ]
    },
    {
      "cell_type": "code",
      "metadata": {
        "colab": {
          "base_uri": "https://localhost:8080/",
          "height": 175
        },
        "id": "E4KFK0XbkDwK",
        "outputId": "4b9507b6-de42-4ac8-ac3c-7af2816b94fc"
      },
      "source": [
        "learn.fit_one_cycle(4)"
      ],
      "execution_count": 13,
      "outputs": [
        {
          "output_type": "display_data",
          "data": {
            "text/html": [
              "<table border=\"1\" class=\"dataframe\">\n",
              "  <thead>\n",
              "    <tr style=\"text-align: left;\">\n",
              "      <th>epoch</th>\n",
              "      <th>train_loss</th>\n",
              "      <th>valid_loss</th>\n",
              "      <th>error_rate</th>\n",
              "      <th>time</th>\n",
              "    </tr>\n",
              "  </thead>\n",
              "  <tbody>\n",
              "    <tr>\n",
              "      <td>0</td>\n",
              "      <td>1.469635</td>\n",
              "      <td>0.468881</td>\n",
              "      <td>0.145833</td>\n",
              "      <td>01:36</td>\n",
              "    </tr>\n",
              "    <tr>\n",
              "      <td>1</td>\n",
              "      <td>0.953508</td>\n",
              "      <td>0.437950</td>\n",
              "      <td>0.150000</td>\n",
              "      <td>00:16</td>\n",
              "    </tr>\n",
              "    <tr>\n",
              "      <td>2</td>\n",
              "      <td>0.703245</td>\n",
              "      <td>0.366859</td>\n",
              "      <td>0.120833</td>\n",
              "      <td>00:16</td>\n",
              "    </tr>\n",
              "    <tr>\n",
              "      <td>3</td>\n",
              "      <td>0.565811</td>\n",
              "      <td>0.367518</td>\n",
              "      <td>0.125000</td>\n",
              "      <td>00:16</td>\n",
              "    </tr>\n",
              "  </tbody>\n",
              "</table>"
            ],
            "text/plain": [
              "<IPython.core.display.HTML object>"
            ]
          },
          "metadata": {
            "tags": []
          }
        }
      ]
    },
    {
      "cell_type": "code",
      "metadata": {
        "id": "GP-IU8bnk-Uz"
      },
      "source": [
        "learn.save('first_train')"
      ],
      "execution_count": 14,
      "outputs": []
    },
    {
      "cell_type": "code",
      "metadata": {
        "id": "dRUg-NNNmnwu"
      },
      "source": [
        "learn.unfreeze()"
      ],
      "execution_count": 15,
      "outputs": []
    },
    {
      "cell_type": "code",
      "metadata": {
        "colab": {
          "base_uri": "https://localhost:8080/",
          "height": 238
        },
        "id": "t_pwQ5zLmuRL",
        "outputId": "f96b47fe-a03f-4aa5-be9b-b4dc7a921261"
      },
      "source": [
        "learn.lr_find()"
      ],
      "execution_count": 16,
      "outputs": [
        {
          "output_type": "display_data",
          "data": {
            "text/html": [
              "\n",
              "    <div>\n",
              "        <style>\n",
              "            /* Turns off some styling */\n",
              "            progress {\n",
              "                /* gets rid of default border in Firefox and Opera. */\n",
              "                border: none;\n",
              "                /* Needs to be in here for Safari polyfill so background images work as expected. */\n",
              "                background-size: auto;\n",
              "            }\n",
              "            .progress-bar-interrupted, .progress-bar-interrupted::-webkit-progress-bar {\n",
              "                background: #F44336;\n",
              "            }\n",
              "        </style>\n",
              "      <progress value='4' class='' max='7' style='width:300px; height:20px; vertical-align: middle;'></progress>\n",
              "      57.14% [4/7 00:57<00:42]\n",
              "    </div>\n",
              "    \n",
              "<table border=\"1\" class=\"dataframe\">\n",
              "  <thead>\n",
              "    <tr style=\"text-align: left;\">\n",
              "      <th>epoch</th>\n",
              "      <th>train_loss</th>\n",
              "      <th>valid_loss</th>\n",
              "      <th>error_rate</th>\n",
              "      <th>time</th>\n",
              "    </tr>\n",
              "  </thead>\n",
              "  <tbody>\n",
              "    <tr>\n",
              "      <td>0</td>\n",
              "      <td>0.325992</td>\n",
              "      <td>#na#</td>\n",
              "      <td>00:14</td>\n",
              "    </tr>\n",
              "    <tr>\n",
              "      <td>1</td>\n",
              "      <td>0.299909</td>\n",
              "      <td>#na#</td>\n",
              "      <td>00:14</td>\n",
              "    </tr>\n",
              "    <tr>\n",
              "      <td>2</td>\n",
              "      <td>0.271711</td>\n",
              "      <td>#na#</td>\n",
              "      <td>00:14</td>\n",
              "    </tr>\n",
              "    <tr>\n",
              "      <td>3</td>\n",
              "      <td>0.539942</td>\n",
              "      <td>#na#</td>\n",
              "      <td>00:14</td>\n",
              "    </tr>\n",
              "  </tbody>\n",
              "</table><p>\n",
              "\n",
              "    <div>\n",
              "        <style>\n",
              "            /* Turns off some styling */\n",
              "            progress {\n",
              "                /* gets rid of default border in Firefox and Opera. */\n",
              "                border: none;\n",
              "                /* Needs to be in here for Safari polyfill so background images work as expected. */\n",
              "                background-size: auto;\n",
              "            }\n",
              "            .progress-bar-interrupted, .progress-bar-interrupted::-webkit-progress-bar {\n",
              "                background: #F44336;\n",
              "            }\n",
              "        </style>\n",
              "      <progress value='10' class='' max='15' style='width:300px; height:20px; vertical-align: middle;'></progress>\n",
              "      66.67% [10/15 00:13<00:06 0.9237]\n",
              "    </div>\n",
              "    "
            ],
            "text/plain": [
              "<IPython.core.display.HTML object>"
            ]
          },
          "metadata": {
            "tags": []
          }
        },
        {
          "output_type": "stream",
          "text": [
            "LR Finder is complete, type {learner_name}.recorder.plot() to see the graph.\n"
          ],
          "name": "stdout"
        }
      ]
    },
    {
      "cell_type": "code",
      "metadata": {
        "colab": {
          "base_uri": "https://localhost:8080/",
          "height": 279
        },
        "id": "uTkjp4QGmyC1",
        "outputId": "f15e7687-6e60-4072-e048-7d1a0a89baeb"
      },
      "source": [
        "learn.recorder.plot()"
      ],
      "execution_count": 17,
      "outputs": [
        {
          "output_type": "display_data",
          "data": {
            "image/png": "[encoded data removed]",
            "text/plain": [
              "<Figure size 432x288 with 1 Axes>"
            ]
          },
          "metadata": {
            "tags": [],
            "needs_background": "light"
          }
        }
      ]
    },
    {
      "cell_type": "code",
      "metadata": {
        "colab": {
          "base_uri": "https://localhost:8080/",
          "height": 112
        },
        "id": "gdl4cAPhnGOy",
        "outputId": "5a67a972-c4e3-4924-b850-deae43dc3577"
      },
      "source": [
        "learn.fit_one_cycle(2,max_lr=slice(1e-5,1e-3))"
      ],
      "execution_count": 18,
      "outputs": [
        {
          "output_type": "display_data",
          "data": {
            "text/html": [
              "<table border=\"1\" class=\"dataframe\">\n",
              "  <thead>\n",
              "    <tr style=\"text-align: left;\">\n",
              "      <th>epoch</th>\n",
              "      <th>train_loss</th>\n",
              "      <th>valid_loss</th>\n",
              "      <th>error_rate</th>\n",
              "      <th>time</th>\n",
              "    </tr>\n",
              "  </thead>\n",
              "  <tbody>\n",
              "    <tr>\n",
              "      <td>0</td>\n",
              "      <td>0.318564</td>\n",
              "      <td>0.378177</td>\n",
              "      <td>0.116667</td>\n",
              "      <td>00:16</td>\n",
              "    </tr>\n",
              "    <tr>\n",
              "      <td>1</td>\n",
              "      <td>0.248814</td>\n",
              "      <td>0.365163</td>\n",
              "      <td>0.100000</td>\n",
              "      <td>00:16</td>\n",
              "    </tr>\n",
              "  </tbody>\n",
              "</table>"
            ],
            "text/plain": [
              "<IPython.core.display.HTML object>"
            ]
          },
          "metadata": {
            "tags": []
          }
        }
      ]
    },
    {
      "cell_type": "code",
      "metadata": {
        "id": "Ag4mwL-vnNmC"
      },
      "source": [
        "learn.save('second_train')"
      ],
      "execution_count": 19,
      "outputs": []
    },
    {
      "cell_type": "markdown",
      "metadata": {
        "id": "tk-2WLUq_p7_"
      },
      "source": [
        "We will check if the training has been good or not"
      ]
    },
    {
      "cell_type": "code",
      "metadata": {
        "colab": {
          "base_uri": "https://localhost:8080/",
          "height": 17
        },
        "id": "resWaVNZngFc",
        "outputId": "8172b250-36c0-4e83-adf3-9449d37c2f8e"
      },
      "source": [
        "interp = ClassificationInterpretation.from_learner(learn)"
      ],
      "execution_count": 20,
      "outputs": [
        {
          "output_type": "display_data",
          "data": {
            "text/html": [
              ""
            ],
            "text/plain": [
              "<IPython.core.display.HTML object>"
            ]
          },
          "metadata": {
            "tags": []
          }
        }
      ]
    },
    {
      "cell_type": "code",
      "metadata": {
        "colab": {
          "base_uri": "https://localhost:8080/",
          "height": 311
        },
        "id": "IC6MzTxsnkAQ",
        "outputId": "96f25c47-ece4-47b6-9dac-2f02231eceeb"
      },
      "source": [
        "interp.plot_confusion_matrix()"
      ],
      "execution_count": 21,
      "outputs": [
        {
          "output_type": "display_data",
          "data": {
            "image/png": "[encoded data removed]",
            "text/plain": [
              "<Figure size 432x288 with 1 Axes>"
            ]
          },
          "metadata": {
            "tags": [],
            "needs_background": "light"
          }
        }
      ]
    },
    {
      "cell_type": "markdown",
      "metadata": {
        "id": "xqDvTBzr_xjf"
      },
      "source": [
        "\n",
        "## Dataset cleaning\n",
        "\n",
        "We have a few utilities on fastai that help cleaning datasets (in a DataBunch), specially removing images, etc. \n",
        "\n"
      ]
    },
    {
      "cell_type": "code",
      "metadata": {
        "id": "xqhTHYKznmqr"
      },
      "source": [
        "from fastai.widgets import *"
      ],
      "execution_count": 23,
      "outputs": []
    },
    {
      "cell_type": "code",
      "metadata": {
        "id": "2QF24j6WnvKv"
      },
      "source": [
        "db = (ImageList.from_folder(path).split_none().label_from_folder().transform(get_transforms(),size=224).databunch())"
      ],
      "execution_count": 24,
      "outputs": []
    },
    {
      "cell_type": "code",
      "metadata": {
        "colab": {
          "base_uri": "https://localhost:8080/",
          "height": 17
        },
        "id": "qoOxa9zioDKA",
        "outputId": "81a47b2f-1aaa-448d-a1bf-a380eb654a23"
      },
      "source": [
        "ds, idx = DatasetFormatter().from_toplosses(learn)"
      ],
      "execution_count": 25,
      "outputs": [
        {
          "output_type": "display_data",
          "data": {
            "text/html": [
              ""
            ],
            "text/plain": [
              "<IPython.core.display.HTML object>"
            ]
          },
          "metadata": {
            "tags": []
          }
        }
      ]
    },
    {
      "cell_type": "code",
      "metadata": {
        "colab": {
          "base_uri": "https://localhost:8080/",
          "height": 349,
          "referenced_widgets": [
            "53325390477f499d8f3d5ec0d56568b9",
            "d7a6b36fc54a4e65ae5e77825acb8f2e",
            "cc494b0bf0d3441eb63d422c6994a54e",
            "32817d994cf1419fbd195e42f04c1b86",
            "8c25caf4f09844cf8ab6c281778bf5a7",
            "814083c3613044daa2de529c4a2aba82",
            "fdb308cadbdb4419ac364de1d574127e",
            "c123e5147339440b9a2e1c7322682a23",
            "00a8977674714471827943df2e0d8f47",
            "17db422e5c9e441fb2e026e888060223",
            "9284a365d93b49dcb84a392dd5b1ffce",
            "fe46cc9b91a24ce2a265d44b9438e6d0",
            "0da0db8ae0ea4f1baa11f42ac6fd57a1",
            "d14cfb82d984482e9ced3feb86adcbf8",
            "9891ee3d5227441cb33c5e6f4e28d5a5",
            "6542f901ad90448b82fa7145ece3764a",
            "9f7b82d0362e43ea9e431955a51dbf46",
            "d0e2f386f158443584cf8674db97a22c",
            "084266c2f13441f4a2a58501f213edde",
            "3156195675b4457c9d12c228799416cd",
            "5f55557bb7654571b124e049766067ba",
            "b8a71ab4df4f46d7a3a7db6b1caf472e",
            "3025d5a910194b7e8ee9b46179f49ed9",
            "70546fcb989144058f5dffb3401a0bc9",
            "4872aa081d2a408ba8b329e9451c4362",
            "445c22b138a94737985a4661c7bdde42",
            "bfc9121267914538a854ee25cda1ab6f",
            "be05e40e708342788114319b6e52a083",
            "89d7739c0ea040b891f81e6aa98162e0",
            "e981912475884674b261dabc148d483b",
            "0201ea1860154c7098607f872aee68a9",
            "88a7539418ae45b29ed7852403de2560",
            "1a4616cd99444290ab1e91984f86f9a5",
            "831405d814c74afcb40edde78e2121be",
            "34ed6cbd06264f019b1c116995ca1044",
            "40d7f8b323c34766aaf9bb6f93348ef2",
            "ce4848fb7bfd4c3ea4ec0e999ca8c8f5",
            "ca66712861884b5f9f748ab83ca53648",
            "d9a49fc2b4f6444aaca7c129bf8eb3fa",
            "c28211d2ca224a05837ee39c7a80d9f2",
            "d028afcf65dc43eda150590165294391",
            "ce78e79dca734b34b3f484ec707a9a0c",
            "fcc0766219d0440da1a7c0179cbe5020",
            "d8b965647f224c51a42ece27318b86ef",
            "54454b2cb2dc47048b8d3cfee8d50735",
            "e52ae05d2d2a41a59d92b81579ba1d9f",
            "bec032247bae4872a5b0bd420e94fea8",
            "b7d777695d864b40ada1dda55029ab73",
            "f91a7ef34b28464b9b51c0f8ec2e08c5",
            "b2bc8fc573394131a9baca4b8886c611",
            "d25e31a1226f4afbb837ed6b1ddf209e",
            "e5ecda9f937e4c15add2cc8eeeec9073",
            "18ee5a146f504874ba6b033fe6e538d2",
            "451768a42df948388125f82d622c7b2e",
            "496c3ec4db6b41e798aca6f3c0b00b89",
            "f35f39a3ddd24e65ba0f800478662c02",
            "0e0510a9155b4648a541815e07aca8b2",
            "981bb5069d74480f987ddbd09f0aae51",
            "b0ee3a85332643d9bd03ba6750fa2ba3",
            "04ddc1a8e2b543cc9d8186a38b3b5d62",
            "bb90edadc72c46418be92809dcec146b",
            "d69dc45015894a52b88fc97812160e64",
            "eb0f1a4800844efaa516abf5b7fc10a9",
            "cb29d98374c946a6840d9c6dd98c6a33",
            "97c501faade442349b110f6da4e0a78a",
            "e53b5a45d5a749f49c277ae18b918de7",
            "4e4caace98c447458215c2b3bd38b304",
            "cf94cb1e21974edc95067f3dd12bde0c",
            "10f85e77906645e288ea681121441b62",
            "a0a36756786641eab8aeae80746f648a",
            "1fd30463cd534263a770a774e27ed3e8",
            "cfb23170a7fb45708b9e1ffca1a855f7",
            "ee27c180f7f840318fd3588dd7d293e1",
            "42b10d3009234e2bb87cfd9a9a1891df",
            "db2a35a30a0b4d05a1d5d932b9be07d5",
            "98374ec52a9e43f297a6fddb95c7f1e2",
            "ebe339cce5444e3ba46dc956ccd1f0c2",
            "60c73ea5b14c4a0cba1c5672fc140b28",
            "a532e3313fcd4ef9b08768e9236aa2ff",
            "c7dbaf73cd30401295c689680bb61239",
            "87f5cb6612ed425c8f70eb7e33a88f76",
            "c9f2202876ae4eb492b7974fdbb0e00c",
            "b96b705c713643889be2dce799ac3de7",
            "a5d38be74cd84ab897595fb5433d39bc",
            "28960a2590a34764a93656569078c4e4",
            "fb63aeaf87474c04ac92c5b9c9342f59",
            "227c39b80df547fca8e51003afd73305",
            "06b4fa5b28804d599cf1bdf5c4e2f80a",
            "90f23398ff7c4bfd90b98eb4cc502b01",
            "1cf296dca42a409f8ee36ae053a8839c",
            "e4966d6d7801410ca517b87dfe489626",
            "e4d3bca42b27427d9bb4f6820c0085cd",
            "98e1756e3b0b4536a8cd8d6380281b6f",
            "9079fb49275b401dbea5cf7c56382c7a",
            "ca966dfb81f7419397eab313ab3d27fa",
            "1889e306318f464e9e4392a7680b3b12",
            "609b5da3f04d46be8bcff59426416be2",
            "d3bb1942e24a467d9226188cc7d83676",
            "f21e986f30744498ab953537e3dc92e2",
            "be1c98c3ba32465ebbb90db2d9f0a465",
            "5b9ca29597094601af9b0dfd427dd12b",
            "ee6a17d61ff640d080044bbc73198411",
            "3e3f5158262f433e9ba1c33e70a5a6bf",
            "51af1de4938f4bce84e7cc7ca955baca",
            "1e8260af9af145bfa17810227a636aa2",
            "61b9c43aaefd41fb98ce421cba70d642",
            "a6430788397641199efbbd219eb79a2f",
            "cf93dabc894c47f984a029e5baf7ae77",
            "7c9e180fe3544a0e8c476ad83ffbe540",
            "45cd95cf9e4e4501909a00a0fed15d5e",
            "e7274d943e09439abb2dd6f939f2c7ee",
            "b645b0eba02542268724ad8bb38beeed",
            "706d942ed2524aefa68453b47f11e015",
            "0bbf7d1936384ce79de514a2ef33bed0",
            "bbf3e8d2936d45628fb67256bf7371c4",
            "00107eb6fd6c4363848af0edd7728037",
            "fe1d277ea0a845c29a6f59d044b9313d",
            "3bb8e4d065d54fd48871469444c7f319",
            "1652dcaf183141d0b757df050074e94e",
            "3c2aedb5babc473eace6d1f3461490e8",
            "0f98d95882084d988e8345103fe2a53e",
            "8dfe4594f7554b7d8876bfbc18523160",
            "3d8aee19e3844d6a914ff744fa770d96",
            "390ad46d82d4475da43446f2edcbb50c",
            "02771e6dbc7142439fce8d8bda8bf740",
            "bf722e39c6e7439f8bc77930808aed77",
            "891ae5069e084802a16abffe99818cf8",
            "3671858623c54952bfe1233213834fb4",
            "771d4e113e5f489fa68e8e2bb3006cfd",
            "44c1435d982d48bf83fb7eb0f6c97c58",
            "552126f822ab49e3a184439eab8f1be1",
            "a87e2eaa8e064ddc81a0b6500c7c4a57",
            "6229cd2f00d24eb0b8ebe9f4c808594b",
            "4282846e1d47446fb39b35610a3bffa8",
            "87364dd51e3c46a8b2d5d3d8d769658f",
            "6856032128b6458b95bad07d617b5062",
            "ccb1c91d91db47d49305a2ca9e611343"
          ]
        },
        "id": "3bbx0w0MoVOw",
        "outputId": "79272475-e224-4687-b42f-846ab11f2a4c"
      },
      "source": [
        "ImageCleaner(ds, idx, path)"
      ],
      "execution_count": 26,
      "outputs": [
        {
          "output_type": "display_data",
          "data": {
            "application/vnd.jupyter.widget-view+json": {
              "model_id": "1e8260af9af145bfa17810227a636aa2",
              "version_minor": 0,
              "version_major": 2
            },
            "text/plain": [
              "HBox(children=(VBox(children=(Image(value=b'\\xff\\xd8\\xff\\xe0\\x00\\x10JFIF\\x00\\x01\\x01\\x01\\x00d\\x00d\\x00\\x00\\xff…"
            ]
          },
          "metadata": {
            "tags": []
          }
        },
        {
          "output_type": "display_data",
          "data": {
            "application/vnd.jupyter.widget-view+json": {
              "model_id": "6856032128b6458b95bad07d617b5062",
              "version_minor": 0,
              "version_major": 2
            },
            "text/plain": [
              "Button(button_style='primary', description='Next Batch', layout=Layout(width='auto'), style=ButtonStyle())"
            ]
          },
          "metadata": {
            "tags": []
          }
        }
      ]
    },
    {
      "cell_type": "code",
      "metadata": {
        "colab": {
          "base_uri": "https://localhost:8080/",
          "height": 72
        },
        "id": "tW7W0zBtocCR",
        "outputId": "3a795cde-1436-4350-e901-bf48af73fe83"
      },
      "source": [
        "ds, idx = DatasetFormatter().from_similars(learn)"
      ],
      "execution_count": 27,
      "outputs": [
        {
          "output_type": "stream",
          "text": [
            "Getting activations...\n"
          ],
          "name": "stdout"
        },
        {
          "output_type": "display_data",
          "data": {
            "text/html": [
              "\n",
              "    <div>\n",
              "        <style>\n",
              "            /* Turns off some styling */\n",
              "            progress {\n",
              "                /* gets rid of default border in Firefox and Opera. */\n",
              "                border: none;\n",
              "                /* Needs to be in here for Safari polyfill so background images work as expected. */\n",
              "                background-size: auto;\n",
              "            }\n",
              "            .progress-bar-interrupted, .progress-bar-interrupted::-webkit-progress-bar {\n",
              "                background: #F44336;\n",
              "            }\n",
              "        </style>\n",
              "      <progress value='15' class='' max='15' style='width:300px; height:20px; vertical-align: middle;'></progress>\n",
              "      100.00% [15/15 00:10<00:00]\n",
              "    </div>\n",
              "    "
            ],
            "text/plain": [
              "<IPython.core.display.HTML object>"
            ]
          },
          "metadata": {
            "tags": []
          }
        },
        {
          "output_type": "stream",
          "text": [
            "Computing similarities...\n"
          ],
          "name": "stdout"
        }
      ]
    },
    {
      "cell_type": "code",
      "metadata": {
        "colab": {
          "base_uri": "https://localhost:8080/",
          "height": 349,
          "referenced_widgets": [
            "fcf0f6db4dba4079861ded169436ef3f",
            "d7a6b36fc54a4e65ae5e77825acb8f2e",
            "1ed3cb38616d46a89405372710e20d0b",
            "642f3e9ea48d4bbeadcd6753eea3988f",
            "c123e5147339440b9a2e1c7322682a23",
            "5f5d804e21a745ef8156c4e95c0da7ff",
            "c052bc11d2334f38865d151b9c783cee",
            "77ac1fac19524b4892f0a57f064ef1c4",
            "424a7f799c0742efb7c6f0f3b7c1e25d",
            "70546fcb989144058f5dffb3401a0bc9",
            "b8e2bfc1da50417dbc6ef29aa7df6b79",
            "be05e40e708342788114319b6e52a083",
            "2eaef119e949433e900c2e44d71c972b",
            "bda8f3f3b13a4f7fa4dc4ca100044ba6",
            "67d4235838b84219ba9a57019fde6b1e",
            "70c39623b46647778eaa9eefd0756a66",
            "a38717078e5f454a98b705c9f6b8c581",
            "9f9f73838bfe440083d95504141deb72",
            "d3a939e79e364c5aa6ecda2e742de1bd",
            "fc80669533094d66b8620d3bef3b3002",
            "b54ac2a843cf475ebb159141d146f4c1",
            "784a118db0474efb8b8b98522e73f2e3",
            "e1b4db9451f14d3d9a700061bf7c2652",
            "ffeaa20f0fd248d9b084e880185acaae",
            "f51ad1c26a454603bb64bdf4f7f79045",
            "32c57d954412416fb242d0b98f74f13c",
            "14dd8fc5333c4bd180ac433c05ff93ed",
            "90e30cd53a6642179818cdcff6530c83",
            "ca51b98bc2f64f23a9ef36de58b48433",
            "939ce5b36fbf4a3fbc18891a900d20aa",
            "5b17a204c5d943b5b870092f0add35bd",
            "1ac317424e364f709414b468397052cd",
            "c41433dc39e34011b7cb94ce10a820ba",
            "1b15e801f049462bafc58f589c14739b",
            "109b0c87a9ce4289b34a57d58f522701",
            "8eff92af4e5e4a81b79d3103f1a18c5d",
            "7593af19c1404126bef2835067fefe34",
            "bfebe4cbd78b4a41aacd5eaec008fad3",
            "17a6d5474be9465aa5dd03d8503ede4c",
            "0a257501f9574637be754616a790a605",
            "60f7a0213a624a40869f955b7eb11700",
            "b603c208502f49fdbb849574ab328f8b",
            "07c8dbc2277f413fa76d1f846e7ac681",
            "3b7a2a884abf4ec2ad44c260b9fc9d95",
            "91f01fb253e3420a91169bb1ee9d2dc9",
            "144ea262f06640ac88140fc3b178bfa2",
            "2686b46c628d4bd3b6811107155dff90",
            "c004dbfa61744e39ac330c3e5c7c33d2",
            "31563b1048f745499926818baf9d34db",
            "2e290bce6aef4d95b5d872b7f960e07f",
            "a2df08a072684c459d67639baa0ac784",
            "11c73ff1830d4c9dae9ffdd9df00f60d",
            "251322491ad14ab3b2975d9548fb552c",
            "75dd074869804cde84fb08e77347c457",
            "64777bd7922c464282f1d43f5ca6c581",
            "68c2c0c4e35f44f3a2e52c94c71850e9",
            "b1a2992558dc47969f6649823ac4f3f7",
            "133bfbe5746449dbad5f9507fba7a6f2",
            "86ba3113c6e647069d5ac1d7145b7e1f"
          ]
        },
        "id": "s99ll7Ybo09D",
        "outputId": "3954e3e5-5d29-4821-948c-5e36040b3dcb"
      },
      "source": [
        "ImageCleaner(ds, idx, path, duplicates=True)"
      ],
      "execution_count": 28,
      "outputs": [
        {
          "output_type": "display_data",
          "data": {
            "application/vnd.jupyter.widget-view+json": {
              "model_id": "31563b1048f745499926818baf9d34db",
              "version_minor": 0,
              "version_major": 2
            },
            "text/plain": [
              "HBox(children=(VBox(children=(Image(value=b'\\xff\\xd8\\xff\\xe0\\x00\\x10JFIF\\x00\\x01\\x01\\x01\\x00d\\x00d\\x00\\x00\\xff…"
            ]
          },
          "metadata": {
            "tags": []
          }
        },
        {
          "output_type": "display_data",
          "data": {
            "application/vnd.jupyter.widget-view+json": {
              "model_id": "133bfbe5746449dbad5f9507fba7a6f2",
              "version_minor": 0,
              "version_major": 2
            },
            "text/plain": [
              "Button(button_style='primary', description='Next Batch', layout=Layout(width='auto'), style=ButtonStyle())"
            ]
          },
          "metadata": {
            "tags": []
          }
        }
      ]
    },
    {
      "cell_type": "code",
      "metadata": {
        "id": "PA43D61Go-F4"
      },
      "source": [
        ""
      ],
      "execution_count": null,
      "outputs": []
    }
  ]
}